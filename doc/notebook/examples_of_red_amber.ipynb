{
  "cells": [
    {
      "cell_type": "raw",
      "metadata": {},
      "source": [
        "---\n",
        "title: 106 examples of Red Amber\n",
        "---"
      ]
    },
    {
      "cell_type": "markdown",
      "metadata": {},
      "source": [
        "Last update is on March 20, 2023, for RedAmber Version 0.4.1 and Arrow version 11.0.0 .\n",
        "\n",
        "## 1. Install\n",
        "\n",
        "Install requirements before you install RedAmber.\n",
        "\n",
        "- Ruby (>= 3.0)\n",
        "\n",
        "- Apache Arrow (~> 11.0.0)\n",
        "- Apache Arrow GLib (~> 11.0.0)\n",
        "- Apache Parquet GLib (~> 11.0.0)  # if you need IO from/to Parquet resource.\n",
        "\n",
        "  See [Apache Arrow install document](https://arrow.apache.org/install/).\n",
        "  \n",
        "  - Minimum installation example for the latest Ubuntu:\n",
        "    ```\n",
        "      sudo apt update\n",
        "      sudo apt install -y -V ca-certificates lsb-release wget\n",
        "      wget https://apache.jfrog.io/artifactory/arrow/$(lsb_release --id --short | tr 'A-Z' 'a-z')/apache-arrow-apt-source-latest-$(lsb_release --codename --short).deb\n",
        "      sudo apt install -y -V ./apache-arrow-apt-source-latest-$(lsb_release --codename --short).deb\n",
        "      sudo apt update\n",
        "      sudo apt install -y -V libarrow-dev\n",
        "      sudo apt install -y -V libarrow-glib-dev\n",
        "    ```\n",
        "  - On Fedora 38 (Rawhide):\n",
        "    ```\n",
        "    sudo dnf update\n",
        "    sudo dnf -y install gcc-c++ libarrow-devel libarrow-glib-devel ruby-devel\n",
        "    \n",
        "\n",
        "  - On macOS, you can install Apache Arrow C++ library using Homebrew:\n",
        "    ```\n",
        "      brew install apache-arrow\n",
        "    ```\n",
        "    and GLib (C) package with:\n",
        "\n",
        "    ```\n",
        "      brew install apache-arrow-glib\n",
        "    ```\n",
        "\n",
        "If you prepared Apache Arrow, add these lines to your Gemfile:\n",
        "\n",
        "```ruby\n",
        "gem 'red-arrow',   '~> 11.0.0'\n",
        "gem 'red_amber'\n",
        "gem 'red-parquet', '~> 11.0.0' # Optional, if you use IO from/to parquet\n",
        "gem 'rover-df',    '~> 0.3.0'  # Optional, if you use IO from/to Rover::DataFrame\n",
        "gem 'red-datasets-arrow'       # Optional, recommended if you use Red Datasets\n",
        "gem 'red-arrow-numo-narray'    # Optional, recommended if you use inputs from Numo::NArray\n",
        "```\n",
        "\n",
        "And then execute `bundle install` or install it yourself as `gem install red_amber`.\n",
        "\n",
        "## 2. Require"
      ]
    },
    {
      "cell_type": "code",
      "metadata": {
        "tags": []
      },
      "source": [
        "require 'red_amber' # require 'red-amber' is also OK\n",
        "include RedAmber\n",
        "{RedAmber: VERSION, Arrow: Arrow::VERSION}"
      ],
      "execution_count": null,
      "outputs": []
    },
    {
      "cell_type": "markdown",
      "metadata": {},
      "source": [
        "## 3. Initialize"
      ]
    },
    {
      "cell_type": "code",
      "metadata": {
        "tags": []
      },
      "source": [
        "# From a Hash\n",
        "DataFrame.new(x: [1, 2, 3], y: %w[A B C])"
      ],
      "execution_count": null,
      "outputs": []
    },
    {
      "cell_type": "code",
      "metadata": {
        "tags": []
      },
      "source": [
        "# From a schema and a row-oriented array\n",
        "DataFrame.new({ x: :uint8, y: :string }, [[1, 'A'], [2, 'B'], [3, 'C']])"
      ],
      "execution_count": null,
      "outputs": []
    },
    {
      "cell_type": "code",
      "metadata": {
        "tags": []
      },
      "source": [
        "# From an Arrow::Table\n",
        "table = Arrow::Table.new(x: [1, 2, 3], y: %w[A B C])\n",
        "DataFrame.new(table)"
      ],
      "execution_count": null,
      "outputs": []
    },
    {
      "cell_type": "code",
      "metadata": {
        "tags": []
      },
      "source": [
        "# From a Rover::DataFrame\n",
        "require 'rover'\n",
        "rover = Rover::DataFrame.new(x: [1, 2, 3], y: %w[A B C])\n",
        "DataFrame.new(rover)"
      ],
      "execution_count": null,
      "outputs": []
    },
    {
      "cell_type": "code",
      "metadata": {
        "tags": []
      },
      "source": [
        "# from a red-datasets\n",
        "require 'datasets-arrow'\n",
        "dataset = Datasets::Penguins.new\n",
        "penguins = DataFrame.new(dataset) # Since 0.2.2 . If it is older, it must be `dataset.to_arrow`."
      ],
      "execution_count": null,
      "outputs": []
    },
    {
      "cell_type": "code",
      "metadata": {
        "tags": []
      },
      "source": [
        "dataset = Datasets::Rdatasets.new('datasets', 'mtcars')\n",
        "mtcars = DataFrame.new(dataset)"
      ],
      "execution_count": null,
      "outputs": []
    },
    {
      "cell_type": "markdown",
      "metadata": {},
      "source": [
        "(New from 0.2.3 with Arrow 10.0.0) It is possible to initialize by objects responsible to `to_arrow` since 0.2.3 . Arrays in Numo::NArray is responsible to `to_arrow` with `red-arrow-numo-narray` gem. This feature is proposed by the Red Data Tools member @kojix2 and implemented by @kou in Arrow 10.0.0 and Red Arrow Numo::NArray 0.0.6. Thanks!"
      ]
    },
    {
      "cell_type": "code",
      "metadata": {
        "tags": []
      },
      "source": [
        "require 'arrow-numo-narray'\n",
        "\n",
        "DataFrame.new(numo: Numo::DFloat.new(3).rand)"
      ],
      "execution_count": null,
      "outputs": []
    },
    {
      "cell_type": "markdown",
      "metadata": {},
      "source": [
        "Another example by Numo::NArray is [#73. Introduce columns from numo/narray](#73.-Introduce-columns-from-numo/narray).\n",
        "\n",
        "## 4. Load\n",
        "\n",
        "`RedAmber::DataFrame` delegates `#load` to `Arrow::Table#load`. We can load from `[.arrow, .arrows, .csv, .csv.gz, .tsv]` files.\n",
        "\n",
        "`load` accepts following options:\n",
        "\n",
        "`load(input, format: nil, compression: nil, schema: nil, skip_lines: nil)`\n",
        "\n",
        "- `format` [:arrow_file, :batch, :arrows, :arrow_stream, :stream, :csv, :tsv]\n",
        "- `compression` [:gzip, nil]\n",
        "- `schema` [Arrow::Schema]\n",
        "- `skip_lines` [Regexp]\n",
        "\n",
        "Load from a file 'comecome.csv';"
      ]
    },
    {
      "cell_type": "code",
      "metadata": {
        "tags": []
      },
      "source": [
        "file = Tempfile.open(['comecome', '.csv']) do |f|\n",
        "  f.puts(<<~CSV)\n",
        "    name,age\n",
        "    Yasuko,68\n",
        "    Rui,49\n",
        "    Hinata,28\n",
        "  CSV\n",
        "  f\n",
        "end\n",
        "\n",
        "DataFrame.load(file)"
      ],
      "execution_count": null,
      "outputs": []
    },
    {
      "cell_type": "markdown",
      "metadata": {},
      "source": [
        "Load from a Buffer;"
      ]
    },
    {
      "cell_type": "code",
      "metadata": {
        "tags": []
      },
      "source": [
        "DataFrame.load(Arrow::Buffer.new(<<~BUFFER), format: :csv)\n",
        "  name,age\n",
        "  Yasuko,68\n",
        "  Rui,49\n",
        "  Hinata,28\n",
        "BUFFER"
      ],
      "execution_count": null,
      "outputs": []
    },
    {
      "cell_type": "markdown",
      "metadata": {},
      "source": [
        "Load from a Buffer skipping comment line;"
      ]
    },
    {
      "cell_type": "code",
      "metadata": {
        "tags": []
      },
      "source": [
        "DataFrame.load(Arrow::Buffer.new(<<~BUFFER), format: :csv, skip_lines: /^#/)\n",
        "  # comment\n",
        "  name,age\n",
        "  Yasuko,68\n",
        "  Rui,49\n",
        "  Hinata,28\n",
        "BUFFER"
      ],
      "execution_count": null,
      "outputs": []
    },
    {
      "cell_type": "markdown",
      "metadata": {},
      "source": [
        "## 5. Load from a URI"
      ]
    },
    {
      "cell_type": "code",
      "metadata": {
        "tags": []
      },
      "source": [
        "uri = URI(\"https://raw.githubusercontent.com/mwaskom/seaborn-data/master/penguins.csv\")\n",
        "DataFrame.load(uri)"
      ],
      "execution_count": null,
      "outputs": []
    },
    {
      "cell_type": "markdown",
      "metadata": {},
      "source": [
        "## 6. Save\n",
        "\n",
        "`#save` accepts same options as `#load`. See [#4. Load](#4.-Load)."
      ]
    },
    {
      "cell_type": "code",
      "metadata": {
        "tags": []
      },
      "source": [
        "penguins.save(\"penguins.arrow\")\n",
        "penguins.save(\"penguins.arrows\")\n",
        "penguins.save(\"penguins.csv\")\n",
        "penguins.save(\"penguins.csv.gz\")\n",
        "penguins.save(\"penguins.tsv\")\n",
        "penguins.save(\"penguins.feather\")"
      ],
      "execution_count": null,
      "outputs": []
    },
    {
      "cell_type": "markdown",
      "metadata": {},
      "source": [
        "(Since 0.3.0) `DataFrame#save` returns self.\n",
        "\n",
        "## 7. to_s/inspect\n",
        "\n",
        "`to_s` or `inspect` (it uses to_s inside) shows a preview of the dataframe.\n",
        "\n",
        "It shows first 5 and last 3 rows if it has many rows. Columns are also omitted if line is exceeded 80 letters."
      ]
    },
    {
      "cell_type": "code",
      "metadata": {
        "tags": []
      },
      "source": [
        "df = DataFrame.new(\n",
        "  x: [1, 2, 3, 4, 5],\n",
        "  y: [1, 2, 3, 0/0.0, nil],\n",
        "  s: %w[A B C D] << nil,\n",
        "  b: [true, false, true, false, nil]\n",
        ")"
      ],
      "execution_count": null,
      "outputs": []
    },
    {
      "cell_type": "code",
      "metadata": {
        "tags": []
      },
      "source": [
        "p penguins; nil"
      ],
      "execution_count": null,
      "outputs": []
    },
    {
      "cell_type": "markdown",
      "metadata": {},
      "source": [
        "## 8. Show table\n",
        "\n",
        "`#table` shows Arrow::Table object. The alias is `#to_arrow`."
      ]
    },
    {
      "cell_type": "code",
      "metadata": {
        "tags": []
      },
      "source": [
        "df.table"
      ],
      "execution_count": null,
      "outputs": []
    },
    {
      "cell_type": "code",
      "metadata": {
        "tags": []
      },
      "source": [
        "penguins.to_arrow"
      ],
      "execution_count": null,
      "outputs": []
    },
    {
      "cell_type": "code",
      "metadata": {
        "tags": []
      },
      "source": [
        "# This is a Red Arrow's feature\n",
        "puts df.table.to_s(format: :column)"
      ],
      "execution_count": null,
      "outputs": []
    },
    {
      "cell_type": "code",
      "metadata": {
        "tags": []
      },
      "source": [
        "# This is also a Red Arrow's feature\n",
        "puts df.table.to_s(format: :list)"
      ],
      "execution_count": null,
      "outputs": []
    },
    {
      "cell_type": "markdown",
      "metadata": {},
      "source": [
        "## 9. TDR\n",
        "\n",
        "TDR means 'Transposed Dataframe Representation'. It shows columns in lateral just the same shape as initializing by a Hash. TDR has some information which is useful for the exploratory data processing.\n",
        "\n",
        "- DataFrame shape: n_rows x n_columns\n",
        "- Data types\n",
        "- Levels: number of unique elements\n",
        "- Data preview: same data is aggregated if level is smaller (tally mode)\n",
        "- Show counts of abnormal element: NaN and nil\n",
        "\n",
        "It is similar to dplyr's (or Polars's) `glimpse()` so we have an alias `#glimpse` (since 0.4.0)."
      ]
    },
    {
      "cell_type": "code",
      "metadata": {
        "tags": []
      },
      "source": [
        "# use the same dataframe as #7\n",
        "df.tdr"
      ],
      "execution_count": null,
      "outputs": []
    },
    {
      "cell_type": "code",
      "metadata": {
        "tags": []
      },
      "source": [
        "penguins.tdr"
      ],
      "execution_count": null,
      "outputs": []
    },
    {
      "cell_type": "markdown",
      "metadata": {},
      "source": [
        "`#tdr` has some options:\n",
        "\n",
        "`limit` : to limit a number of variables to show. Default value is `limit=10`."
      ]
    },
    {
      "cell_type": "code",
      "metadata": {
        "tags": []
      },
      "source": [
        "penguins.tdr(3)"
      ],
      "execution_count": null,
      "outputs": []
    },
    {
      "cell_type": "markdown",
      "metadata": {},
      "source": [
        "By default `#tdr` shows 9 variables at maximum. `#tdr(:all)` will show all variables."
      ]
    },
    {
      "cell_type": "code",
      "metadata": {
        "tags": []
      },
      "source": [
        "mtcars.tdr(:all)"
      ],
      "execution_count": null,
      "outputs": []
    },
    {
      "cell_type": "markdown",
      "metadata": {},
      "source": [
        "(Since 0.4.0) `#tdra` method is short cut for `#tdr(:all)`"
      ]
    },
    {
      "cell_type": "code",
      "metadata": {
        "tags": []
      },
      "source": [
        "mtcars.tdra"
      ],
      "execution_count": null,
      "outputs": []
    },
    {
      "cell_type": "markdown",
      "metadata": {},
      "source": [
        "`elements` : max number of elements to show in observations. Default value is `elements: 5`."
      ]
    },
    {
      "cell_type": "code",
      "metadata": {
        "tags": []
      },
      "source": [
        "penguins.tdr(elements: 3) # Show first 3 items in data"
      ],
      "execution_count": null,
      "outputs": []
    },
    {
      "cell_type": "markdown",
      "metadata": {},
      "source": [
        "`tally` : max level to use tally mode. Level means size of `tally`ed hash. Default value is `tally: 5`."
      ]
    },
    {
      "cell_type": "code",
      "metadata": {
        "tags": []
      },
      "source": [
        "penguins.tdr(tally: 0) # Don't use tally mode"
      ],
      "execution_count": null,
      "outputs": []
    },
    {
      "cell_type": "markdown",
      "metadata": {},
      "source": [
        "`#tdr_str` returns a String. `#tdr` do the same thing as `puts #tdr_str`"
      ]
    },
    {
      "cell_type": "code",
      "metadata": {
        "tags": []
      },
      "source": [
        "puts penguins.tdr_str"
      ],
      "execution_count": null,
      "outputs": []
    },
    {
      "cell_type": "markdown",
      "metadata": {},
      "source": [
        "(Since 0.4.0) `#glimpse` is an alias for `#tdr`."
      ]
    },
    {
      "cell_type": "code",
      "metadata": {
        "tags": []
      },
      "source": [
        "mtcars.glimpse(:all, elements: 10)"
      ],
      "execution_count": null,
      "outputs": []
    },
    {
      "cell_type": "markdown",
      "metadata": {},
      "source": [
        "## 10. Size and shape"
      ]
    },
    {
      "cell_type": "code",
      "metadata": {
        "tags": []
      },
      "source": [
        "# same as n_rows, n_obs\n",
        "df.size"
      ],
      "execution_count": null,
      "outputs": []
    },
    {
      "cell_type": "code",
      "metadata": {
        "tags": []
      },
      "source": [
        "# same as n_cols, n_vars\n",
        "df.n_keys"
      ],
      "execution_count": null,
      "outputs": []
    },
    {
      "cell_type": "code",
      "metadata": {
        "tags": []
      },
      "source": [
        "# [df.size, df.n_keys], [df.n_rows, df.n_cols]\n",
        "df.shape"
      ],
      "execution_count": null,
      "outputs": []
    },
    {
      "cell_type": "markdown",
      "metadata": {},
      "source": [
        "## 11. Keys"
      ]
    },
    {
      "cell_type": "code",
      "metadata": {
        "tags": []
      },
      "source": [
        "df.keys"
      ],
      "execution_count": null,
      "outputs": []
    },
    {
      "cell_type": "code",
      "metadata": {
        "tags": []
      },
      "source": [
        "penguins.keys"
      ],
      "execution_count": null,
      "outputs": []
    },
    {
      "cell_type": "markdown",
      "metadata": {},
      "source": [
        "## 12. Types"
      ]
    },
    {
      "cell_type": "code",
      "metadata": {
        "tags": []
      },
      "source": [
        "df.types"
      ],
      "execution_count": null,
      "outputs": []
    },
    {
      "cell_type": "code",
      "metadata": {
        "tags": []
      },
      "source": [
        "penguins.types"
      ],
      "execution_count": null,
      "outputs": []
    },
    {
      "cell_type": "markdown",
      "metadata": {},
      "source": [
        "## 13. Data type classes"
      ]
    },
    {
      "cell_type": "code",
      "metadata": {
        "tags": []
      },
      "source": [
        "df.type_classes"
      ],
      "execution_count": null,
      "outputs": []
    },
    {
      "cell_type": "code",
      "metadata": {
        "tags": []
      },
      "source": [
        "penguins.type_classes"
      ],
      "execution_count": null,
      "outputs": []
    },
    {
      "cell_type": "markdown",
      "metadata": {},
      "source": [
        "## 14. Indices\n",
        "\n",
        "Another example of `indices` is [62. Custom index](#62.-Custom-index)."
      ]
    },
    {
      "cell_type": "code",
      "metadata": {
        "tags": []
      },
      "source": [
        "df.indexes\n",
        "# or\n",
        "df.indices"
      ],
      "execution_count": null,
      "outputs": []
    },
    {
      "cell_type": "markdown",
      "metadata": {},
      "source": [
        "`#indices` returns Vector since 0.2.3 .\n",
        "\n",
        "## 15. To an Array or a Hash\n",
        "\n",
        "DataFrame#to_a returns an array of row-oriented data without a header."
      ]
    },
    {
      "cell_type": "code",
      "metadata": {
        "tags": []
      },
      "source": [
        "df.to_a"
      ],
      "execution_count": null,
      "outputs": []
    },
    {
      "cell_type": "markdown",
      "metadata": {},
      "source": [
        "If you need a column-oriented array with keys, use `.to_h.to_a`"
      ]
    },
    {
      "cell_type": "code",
      "metadata": {
        "tags": []
      },
      "source": [
        "df.to_h"
      ],
      "execution_count": null,
      "outputs": []
    },
    {
      "cell_type": "code",
      "metadata": {
        "tags": []
      },
      "source": [
        "df.to_h.to_a"
      ],
      "execution_count": null,
      "outputs": []
    },
    {
      "cell_type": "markdown",
      "metadata": {},
      "source": [
        "## 16. Schema\n",
        "\n",
        "Schema is keys and value types pairs as a Hash."
      ]
    },
    {
      "cell_type": "code",
      "metadata": {
        "tags": []
      },
      "source": [
        "df.schema"
      ],
      "execution_count": null,
      "outputs": []
    },
    {
      "cell_type": "markdown",
      "metadata": {},
      "source": [
        "## 17. Vector\n",
        "\n",
        "Each variable (column in the table) is represented by a Vector object."
      ]
    },
    {
      "cell_type": "code",
      "metadata": {
        "tags": []
      },
      "source": [
        "df[:x] # This syntax will come later"
      ],
      "execution_count": null,
      "outputs": []
    },
    {
      "cell_type": "markdown",
      "metadata": {},
      "source": [
        "Or create new Vector by the constructor."
      ]
    },
    {
      "cell_type": "code",
      "metadata": {
        "tags": []
      },
      "source": [
        "Vector.new(1, 2, 3, 4, 5)"
      ],
      "execution_count": null,
      "outputs": []
    },
    {
      "cell_type": "code",
      "metadata": {
        "tags": []
      },
      "source": [
        "Vector.new(1..5)"
      ],
      "execution_count": null,
      "outputs": []
    },
    {
      "cell_type": "code",
      "metadata": {
        "tags": []
      },
      "source": [
        "Vector.new([1, 2, 3], [4, 5])"
      ],
      "execution_count": null,
      "outputs": []
    },
    {
      "cell_type": "code",
      "metadata": {
        "tags": []
      },
      "source": [
        "array = Arrow::Array.new([1, 2, 3, 4, 5])\n",
        "Vector.new(array)"
      ],
      "execution_count": null,
      "outputs": []
    },
    {
      "cell_type": "markdown",
      "metadata": {},
      "source": [
        "- TODO: `Vector[1..5]` as a constructor\n",
        "\n",
        "## 18. Vectors\n",
        "\n",
        "Returns an Array of Vectors as a DataFrame."
      ]
    },
    {
      "cell_type": "code",
      "metadata": {
        "tags": []
      },
      "source": [
        "df.vectors"
      ],
      "execution_count": null,
      "outputs": []
    },
    {
      "cell_type": "markdown",
      "metadata": {},
      "source": [
        "## 19. Variables\n",
        "\n",
        "Returns key and Vector pairs as a Hash."
      ]
    },
    {
      "cell_type": "code",
      "metadata": {
        "tags": []
      },
      "source": [
        "df.variables"
      ],
      "execution_count": null,
      "outputs": []
    },
    {
      "cell_type": "markdown",
      "metadata": {},
      "source": [
        "## 20. Select columns by #[ ]\n",
        "\n",
        "`DataFrame#[]` is overloading column operations and row operations.\n",
        "\n",
        "- For columns (variables)\n",
        "  - Key in a Symbol: `df[:symbol]`\n",
        "  - Key in a String: `df[\"string\"]`\n",
        "  - Keys in an Array: `df[:symbol1, \"string\", :symbol2]`\n",
        "  - Keys by indeces: `df[df.keys[0]`, `df[df.keys[1,2]]`, `df[df.keys[1..]]`"
      ]
    },
    {
      "cell_type": "code",
      "metadata": {
        "tags": []
      },
      "source": [
        "# Keys in a Symbol and a String\n",
        "df[:x, 'y']"
      ],
      "execution_count": null,
      "outputs": []
    },
    {
      "cell_type": "code",
      "metadata": {
        "tags": []
      },
      "source": [
        "# Keys in a Range\n",
        "df[:x..:y]"
      ],
      "execution_count": null,
      "outputs": []
    },
    {
      "cell_type": "code",
      "metadata": {
        "tags": []
      },
      "source": [
        "# Keys with a index Range, and a symbol\n",
        "df[df.keys[2..], :x]"
      ],
      "execution_count": null,
      "outputs": []
    },
    {
      "cell_type": "markdown",
      "metadata": {},
      "source": [
        "## 21. Select rows by #[ ]\n",
        "`DataFrame#[]` is overloading column operations and row operations.\n",
        "\n",
        "- For rows (observations)\n",
        "  - Select rows by a Index: `df[index]`\n",
        "  - Select rows by Indices: `df[indices]` # Array, Arrow::Array, Vectors are acceptable for indices\n",
        "  - Select rows by Ranges: `df[range]`\n",
        "  - Select rows by Booleans: `df[booleans]` # Array, Arrow::Array, Vectors are acceptable for booleans"
      ]
    },
    {
      "cell_type": "code",
      "metadata": {
        "tags": []
      },
      "source": [
        "# indices\n",
        "df[0, 2, 1]"
      ],
      "execution_count": null,
      "outputs": []
    },
    {
      "cell_type": "code",
      "metadata": {
        "tags": []
      },
      "source": [
        "# including a Range\n",
        "# negative indices are also acceptable\n",
        "df[1..2, -1]"
      ],
      "execution_count": null,
      "outputs": []
    },
    {
      "cell_type": "code",
      "metadata": {
        "tags": []
      },
      "source": [
        "# booleans\n",
        "# length of boolean should be the same as self\n",
        "df[false, true, true, false, true]"
      ],
      "execution_count": null,
      "outputs": []
    },
    {
      "cell_type": "code",
      "metadata": {
        "tags": []
      },
      "source": [
        "# Arrow::Array\n",
        "indices = Arrow::UInt8Array.new([0,2,4])\n",
        "df[indices]"
      ],
      "execution_count": null,
      "outputs": []
    },
    {
      "cell_type": "code",
      "metadata": {
        "tags": []
      },
      "source": [
        "# By a Vector as indices\n",
        "indices = Vector.new(df.indices)\n",
        "# indices > 1 returns a boolean Vector\n",
        "df[indices > 1]"
      ],
      "execution_count": null,
      "outputs": []
    },
    {
      "cell_type": "code",
      "metadata": {
        "tags": []
      },
      "source": [
        "# By a Vector as booleans\n",
        "booleans = df[:b]"
      ],
      "execution_count": null,
      "outputs": []
    },
    {
      "cell_type": "code",
      "metadata": {
        "tags": []
      },
      "source": [
        "df[booleans]"
      ],
      "execution_count": null,
      "outputs": []
    },
    {
      "cell_type": "markdown",
      "metadata": {},
      "source": [
        "## 22. empty?"
      ]
    },
    {
      "cell_type": "code",
      "metadata": {
        "tags": []
      },
      "source": [
        "df.empty?"
      ],
      "execution_count": null,
      "outputs": []
    },
    {
      "cell_type": "code",
      "metadata": {
        "tags": []
      },
      "source": [
        "DataFrame.new"
      ],
      "execution_count": null,
      "outputs": []
    },
    {
      "cell_type": "code",
      "metadata": {
        "tags": []
      },
      "source": [
        "DataFrame.new.empty?"
      ],
      "execution_count": null,
      "outputs": []
    },
    {
      "cell_type": "markdown",
      "metadata": {},
      "source": [
        "## 23. Select columns by pick\n",
        "\n",
        "`DataFrame#pick` accepts an Array of keys to pick up columns (variables) and creates a new DataFrame. You can change the order of columns at a same time.\n",
        "\n",
        "The name `pick` comes from the action to pick variables(columns) according to the label keys."
      ]
    },
    {
      "cell_type": "code",
      "metadata": {
        "tags": []
      },
      "source": [
        "df.pick(:s, :y)\n",
        "# or\n",
        "df.pick([:s, :y]) # OK too."
      ],
      "execution_count": null,
      "outputs": []
    },
    {
      "cell_type": "markdown",
      "metadata": {},
      "source": [
        "Or use a boolean Array of lengeh `n_key` to `pick`. This style preserves the order of variables."
      ]
    },
    {
      "cell_type": "code",
      "metadata": {
        "tags": []
      },
      "source": [
        "df.pick(false, true, true, false)\n",
        "# or\n",
        "df.pick([false, true, true, false])\n",
        "# or\n",
        "df.pick(Vector.new([false, true, true, false]))"
      ],
      "execution_count": null,
      "outputs": []
    },
    {
      "cell_type": "markdown",
      "metadata": {},
      "source": [
        "`#pick` also accepts a block in the context of self.\n",
        "\n",
        "Next example is picking up numeric variables."
      ]
    },
    {
      "cell_type": "code",
      "metadata": {
        "tags": []
      },
      "source": [
        "# reciever is required with the argument style\n",
        "df.pick(df.vectors.map(&:numeric?))\n",
        "\n",
        "# with a block\n",
        "df.pick { vectors.map(&:numeric?) }"
      ],
      "execution_count": null,
      "outputs": []
    },
    {
      "cell_type": "markdown",
      "metadata": {},
      "source": [
        "`pick` also accepts numeric indexes.\n",
        "\n",
        "(Since 0.2.1)"
      ]
    },
    {
      "cell_type": "code",
      "metadata": {
        "tags": []
      },
      "source": [
        "df.pick(0, 3)"
      ],
      "execution_count": null,
      "outputs": []
    },
    {
      "cell_type": "markdown",
      "metadata": {},
      "source": [
        "## 24. Reject columns by drop\n",
        "\n",
        "`DataFrame#drop` accepts an Array keys to drop columns (variables) to create a remainer DataFrame.\n",
        "\n",
        "The name `drop` comes from the pair word of `pick`."
      ]
    },
    {
      "cell_type": "code",
      "metadata": {
        "tags": []
      },
      "source": [
        "df.drop(:x, :b)\n",
        "# df.drop([:x, :b]) #is OK too."
      ],
      "execution_count": null,
      "outputs": []
    },
    {
      "cell_type": "markdown",
      "metadata": {},
      "source": [
        "Or use a boolean Array of lengeh `n_key` to `drop`."
      ]
    },
    {
      "cell_type": "code",
      "metadata": {
        "tags": []
      },
      "source": [
        "df.drop(true, false, false, true)\n",
        "# df.drop([true, false, false, true]) # is OK too"
      ],
      "execution_count": null,
      "outputs": []
    },
    {
      "cell_type": "markdown",
      "metadata": {},
      "source": [
        "`#drop` also accepts a block in the context of self.\n",
        "\n",
        "Next example will drop variables which have nil or NaN values."
      ]
    },
    {
      "cell_type": "code",
      "metadata": {
        "tags": []
      },
      "source": [
        "df.drop { vectors.map { |v| v.is_na.any } }"
      ],
      "execution_count": null,
      "outputs": []
    },
    {
      "cell_type": "markdown",
      "metadata": {},
      "source": [
        "Argument style is also acceptable but it requires the reciever 'df'."
      ]
    },
    {
      "cell_type": "code",
      "metadata": {
        "tags": []
      },
      "source": [
        "df.drop(df.vectors.map { |v| v.is_na.any })"
      ],
      "execution_count": null,
      "outputs": []
    },
    {
      "cell_type": "markdown",
      "metadata": {},
      "source": [
        "`drop` also accepts numeric indexes.\n",
        "\n",
        "(Since 0.2.1)"
      ]
    },
    {
      "cell_type": "code",
      "metadata": {
        "tags": []
      },
      "source": [
        "df.drop(0, 3)"
      ],
      "execution_count": null,
      "outputs": []
    },
    {
      "cell_type": "markdown",
      "metadata": {},
      "source": [
        "## 25. Pick/drop and nil\n",
        "\n",
        "When `pick` or `drop` is used with booleans, nil in the booleans is treated as false. This behavior is aligned with Ruby's `BasicObject#!`."
      ]
    },
    {
      "cell_type": "code",
      "metadata": {
        "tags": []
      },
      "source": [
        "booleans = [true, true, false, nil]\n",
        "booleans_invert = booleans.map(&:!) # => [false, false, true, true] because nil.! is true\n",
        "df.pick(booleans) == df.drop(booleans_invert)"
      ],
      "execution_count": null,
      "outputs": []
    },
    {
      "cell_type": "markdown",
      "metadata": {},
      "source": [
        "## 26. Vector#invert, #primitive_invert\n",
        "\n",
        "For the boolean Vector;"
      ]
    },
    {
      "cell_type": "code",
      "metadata": {
        "tags": []
      },
      "source": [
        "vector = Vector.new(booleans)"
      ],
      "execution_count": null,
      "outputs": []
    },
    {
      "cell_type": "markdown",
      "metadata": {},
      "source": [
        "nil is converted to nil by `Vector#invert`."
      ]
    },
    {
      "cell_type": "code",
      "metadata": {
        "tags": []
      },
      "source": [
        "vector.invert\n",
        "# or\n",
        "!vector"
      ],
      "execution_count": null,
      "outputs": []
    },
    {
      "cell_type": "markdown",
      "metadata": {},
      "source": [
        "So `df.pick(booleans) != df.drop(booleans.invert)` when booleans have any nils.\n",
        "\n",
        "On the other hand, `Vector#primitive_invert` follows Ruby's `BasicObject#!`'s behavior. Then pick and drop keep 'MECE' behavior."
      ]
    },
    {
      "cell_type": "code",
      "metadata": {
        "tags": []
      },
      "source": [
        "vector.primitive_invert"
      ],
      "execution_count": null,
      "outputs": []
    },
    {
      "cell_type": "code",
      "metadata": {
        "tags": []
      },
      "source": [
        "df.pick(vector) == df.drop(vector.primitive_invert)"
      ],
      "execution_count": null,
      "outputs": []
    },
    {
      "cell_type": "markdown",
      "metadata": {},
      "source": [
        "## 27. Pick/drop, #[] and #v\n",
        "\n",
        "When `pick` or `drop` select a single column (variable), it returns a `DataFrame` with one column (variable)."
      ]
    },
    {
      "cell_type": "code",
      "metadata": {
        "tags": []
      },
      "source": [
        "df.pick(:x) # or\n",
        "df.drop(:y, :s, :b)"
      ],
      "execution_count": null,
      "outputs": []
    },
    {
      "cell_type": "markdown",
      "metadata": {},
      "source": [
        "In contrast, when `[]` selects a single column (variable), it returns a `Vector`."
      ]
    },
    {
      "cell_type": "code",
      "metadata": {
        "tags": []
      },
      "source": [
        "df[:x]"
      ],
      "execution_count": null,
      "outputs": []
    },
    {
      "cell_type": "markdown",
      "metadata": {},
      "source": [
        "This behavior may be useful to use with DataFrame manipulation verbs (like pick, drop, slice, remove, assign, rename)."
      ]
    },
    {
      "cell_type": "code",
      "metadata": {
        "tags": []
      },
      "source": [
        "df.pick { keys.select { |key| df[key].numeric? } }"
      ],
      "execution_count": null,
      "outputs": []
    },
    {
      "cell_type": "markdown",
      "metadata": {},
      "source": [
        "`df#v` method is same as `df#[]` to pick a Vector. But a little bit faster and easy to use in the block."
      ]
    },
    {
      "cell_type": "code",
      "metadata": {
        "tags": []
      },
      "source": [
        "df.v(:x)"
      ],
      "execution_count": null,
      "outputs": []
    },
    {
      "cell_type": "markdown",
      "metadata": {},
      "source": [
        "## 28. Slice\n",
        "\n",
        "Another example of `slice` is [#66. Row index label by slice_by](#66.-Row-index-label-by-slice_by).\n",
        "\n",
        "`slice` selects rows (records) to create a subset of a DataFrame.\n",
        "\n",
        "`slice(indeces)` accepts indices as arguments. Indices should be Integers, Floats or Ranges of Integers. Negative index from the tail like Ruby's Array is also acceptable."
      ]
    },
    {
      "cell_type": "code",
      "metadata": {
        "tags": []
      },
      "source": [
        "# returns 5 rows from the start and 5 rows from the end\n",
        "penguins.slice(0...5, -5..-1)"
      ],
      "execution_count": null,
      "outputs": []
    },
    {
      "cell_type": "code",
      "metadata": {
        "tags": []
      },
      "source": [
        "# slice accepts Float index\n",
        "# 33% of 344 observations in index => 113.52 th data ??\n",
        "indexed_penguins = penguins.assign_left { [:index, indexes] } # #assign_left and assigner by Array is 0.2.0 feature\n",
        "indexed_penguins.slice(penguins.size * 0.33)"
      ],
      "execution_count": null,
      "outputs": []
    },
    {
      "cell_type": "markdown",
      "metadata": {},
      "source": [
        "Indices in Vectors or Arrow::Arrays are also acceptable.\n",
        "\n",
        "Another way to select in `slice` is to use booleans. An alias for this feature is `filter`.\n",
        "- Booleans is an Array, Arrow::Array, Vector or their Array.\n",
        "- Each data type must be boolean.\n",
        "- Size of booleans must be same as the size of self."
      ]
    },
    {
      "cell_type": "code",
      "metadata": {
        "tags": []
      },
      "source": [
        "# make boolean Vector to check over 40\n",
        "booleans = penguins[:bill_length_mm] > 40"
      ],
      "execution_count": null,
      "outputs": []
    },
    {
      "cell_type": "code",
      "metadata": {
        "tags": []
      },
      "source": [
        "penguins.slice(booleans)"
      ],
      "execution_count": null,
      "outputs": []
    },
    {
      "cell_type": "markdown",
      "metadata": {},
      "source": [
        "`slice` accepts a block.\n",
        "- We can't use both arguments and a block at a same time.\n",
        "- The block should return indeces in any length or a boolean Array with a same length as `size`.\n",
        "- Block is called in the context of self. So reciever 'self' can be omitted in the block."
      ]
    },
    {
      "cell_type": "code",
      "metadata": {
        "tags": []
      },
      "source": [
        "# return a DataFrame with bill_length_mm is in 2*std range around mean\n",
        "penguins.slice do\n",
        "  min = bill_length_mm.mean - bill_length_mm.std\n",
        "  max = bill_length_mm.mean + bill_length_mm.std\n",
        "  bill_length_mm.to_a.map { |e| (min..max).include? e }\n",
        "end"
      ],
      "execution_count": null,
      "outputs": []
    },
    {
      "cell_type": "markdown",
      "metadata": {},
      "source": [
        "## 29. Slice and nil option\n",
        "\n",
        "`Arrow::Table#slice` uses `#filter` method with a option `Arrow::FilterOptions.null_selection_behavior = :emit_null`. This will propagate nil at the same row."
      ]
    },
    {
      "cell_type": "code",
      "metadata": {
        "tags": []
      },
      "source": [
        "hash = { a: [1, 2, 3], b: %w[A B C], c: [1.0, 2, 3] }\n",
        "table = Arrow::Table.new(hash)\n",
        "table.slice([true, false, nil])"
      ],
      "execution_count": null,
      "outputs": []
    },
    {
      "cell_type": "markdown",
      "metadata": {},
      "source": [
        "Whereas in RedAmber, `DataFrame#slice` with booleans containing nil is treated as false. This behavior comes from `Allow::FilterOptions.null_selection_behavior = :drop`. This is a default value for `Arrow::Table.filter` method."
      ]
    },
    {
      "cell_type": "code",
      "metadata": {
        "tags": []
      },
      "source": [
        "RedAmber::DataFrame.new(table).slice([true, false, nil]).table"
      ],
      "execution_count": null,
      "outputs": []
    },
    {
      "cell_type": "markdown",
      "metadata": {},
      "source": [
        "## 30. Remove\n",
        "\n",
        "Slice and reject rows (observations) to create a remainer DataFrame.\n",
        "\n",
        "`#remove(indeces)` accepts indeces as arguments. Indeces should be an Integer or a Range of Integer."
      ]
    },
    {
      "cell_type": "code",
      "metadata": {
        "tags": []
      },
      "source": [
        "# returns 6th to 339th obs. Remainer of 1st example of #30\n",
        "penguins.remove(0...5, -5..-1)"
      ],
      "execution_count": null,
      "outputs": []
    },
    {
      "cell_type": "markdown",
      "metadata": {},
      "source": [
        "`remove(booleans)` accepts booleans as a argument in an Array, a Vector or an Arrow::BooleanArray . Booleans must be same length as `#size`."
      ]
    },
    {
      "cell_type": "code",
      "metadata": {
        "tags": []
      },
      "source": [
        "# remove all observation contains nil\n",
        "removed = penguins.remove { vectors.map(&:is_nil).reduce(&:|) }"
      ],
      "execution_count": null,
      "outputs": []
    },
    {
      "cell_type": "markdown",
      "metadata": {},
      "source": [
        "`remove {block}` is also acceptable. We can't use both arguments and a block at a same time. The block should return indeces or a boolean Array with a same length as size. Block is called in the context of self."
      ]
    },
    {
      "cell_type": "code",
      "metadata": {
        "tags": []
      },
      "source": [
        "# Remove data in 2*std range around mean\n",
        "penguins.remove do\n",
        "  vector = self[:bill_length_mm]\n",
        "  min = vector.mean - vector.std\n",
        "  max = vector.mean + vector.std\n",
        "  vector.to_a.map { |e| (min..max).include? e }\n",
        "end"
      ],
      "execution_count": null,
      "outputs": []
    },
    {
      "cell_type": "markdown",
      "metadata": {},
      "source": [
        "## 31. Remove and nil\n",
        "\n",
        "When `remove` used with booleans, nil in booleans is treated as false. This behavior is aligned with Ruby's `nil#!`."
      ]
    },
    {
      "cell_type": "code",
      "metadata": {
        "tags": []
      },
      "source": [
        "df = RedAmber::DataFrame.new(a: [1, 2, nil], b: %w[A B C], c: [1.0, 2, 3])"
      ],
      "execution_count": null,
      "outputs": []
    },
    {
      "cell_type": "code",
      "metadata": {
        "tags": []
      },
      "source": [
        "booleans = df[:a] < 2"
      ],
      "execution_count": null,
      "outputs": []
    },
    {
      "cell_type": "code",
      "metadata": {
        "tags": []
      },
      "source": [
        "booleans_invert = booleans.to_a.map(&:!)"
      ],
      "execution_count": null,
      "outputs": []
    },
    {
      "cell_type": "code",
      "metadata": {
        "tags": []
      },
      "source": [
        "df.slice(booleans) == df.remove(booleans_invert)"
      ],
      "execution_count": null,
      "outputs": []
    },
    {
      "cell_type": "markdown",
      "metadata": {},
      "source": [
        "Whereas `Vector#invert` returns nil for elements nil. This will bring different result. (See #26)"
      ]
    },
    {
      "cell_type": "code",
      "metadata": {
        "tags": []
      },
      "source": [
        "booleans.invert"
      ],
      "execution_count": null,
      "outputs": []
    },
    {
      "cell_type": "code",
      "metadata": {
        "tags": []
      },
      "source": [
        "df.remove(booleans.invert)"
      ],
      "execution_count": null,
      "outputs": []
    },
    {
      "cell_type": "markdown",
      "metadata": {},
      "source": [
        "We have `#primitive_invert` method in Vector. This method returns the same result as `.to_a.map(&:!)` above."
      ]
    },
    {
      "cell_type": "code",
      "metadata": {
        "tags": []
      },
      "source": [
        "booleans.primitive_invert"
      ],
      "execution_count": null,
      "outputs": []
    },
    {
      "cell_type": "code",
      "metadata": {
        "tags": []
      },
      "source": [
        "df.remove(booleans.primitive_invert)"
      ],
      "execution_count": null,
      "outputs": []
    },
    {
      "cell_type": "code",
      "metadata": {
        "tags": []
      },
      "source": [
        "df.slice(booleans) == df.remove(booleans.primitive_invert)"
      ],
      "execution_count": null,
      "outputs": []
    },
    {
      "cell_type": "markdown",
      "metadata": {},
      "source": [
        "## 32. Remove nil\n",
        "\n",
        "Remove any observations containing nil."
      ]
    },
    {
      "cell_type": "code",
      "metadata": {
        "tags": []
      },
      "source": [
        "penguins.remove_nil"
      ],
      "execution_count": null,
      "outputs": []
    },
    {
      "cell_type": "markdown",
      "metadata": {},
      "source": [
        "The roundabout way for this is to use `#remove`."
      ]
    },
    {
      "cell_type": "code",
      "metadata": {
        "tags": []
      },
      "source": [
        "penguins.remove { vectors.map(&:is_nil).reduce(&:|) }"
      ],
      "execution_count": null,
      "outputs": []
    },
    {
      "cell_type": "markdown",
      "metadata": {},
      "source": [
        "## 33. Rename\n",
        "\n",
        "Rename keys (column names) to create a updated DataFrame.\n",
        "\n",
        "`#rename(key_pairs)` accepts key_pairs as arguments. key_pairs should be a Hash of `{existing_key => new_key}` or an Array of Array `[[existing_key, new_key], ...]` ."
      ]
    },
    {
      "cell_type": "code",
      "metadata": {
        "tags": []
      },
      "source": [
        "h = { name: %w[Yasuko Rui Hinata], age: [68, 49, 28] }\n",
        "comecome = RedAmber::DataFrame.new(h)"
      ],
      "execution_count": null,
      "outputs": []
    },
    {
      "cell_type": "code",
      "metadata": {
        "tags": []
      },
      "source": [
        "comecome.rename(age: :age_in_1993)\n",
        "# comecome.rename(:age, :age_in_1993) # is also OK\n",
        "# comecome.rename([:age, :age_in_1993]) # is also OK"
      ],
      "execution_count": null,
      "outputs": []
    },
    {
      "cell_type": "markdown",
      "metadata": {},
      "source": [
        "`#rename {block}` is also acceptable. We can't use both arguments and a block at a same time. The block should return key_pairs as a Hash of `{existing_key => new_key}` or an Array of Array `[[existing_key, new_key], ...]`. Block is called in the context of self.\n",
        "\n",
        "Symbol key and String key are distinguished.\n",
        "\n",
        "## 34. Assign\n",
        "\n",
        "Another example of `assign` is [64. Assign revised](#64.-Assign-revised), [#65. Variations of assign](#65.-Variations-of-assign) .\n",
        "\n",
        "Assign new or updated columns (variables) and create a updated DataFrame.\n",
        "\n",
        "- Columns with new keys will append new variables at right (bottom in TDR).\n",
        "- Columns with exisiting keys will update corresponding vectors.\n",
        "\n",
        "`#assign(key_pairs)` accepts pairs of key and array_like values as arguments. The pairs should be a Hash of `{key => array_like}` or an Array of Array `[[key, array_like], ... ]`. `array_like` is one of `Vector`, `Array` or `Arrow::Array`. "
      ]
    },
    {
      "cell_type": "code",
      "metadata": {
        "tags": []
      },
      "source": [
        "comecome = RedAmber::DataFrame.new( name: %w[Yasuko Rui Hinata], age: [68, 49, 28] )"
      ],
      "execution_count": null,
      "outputs": []
    },
    {
      "cell_type": "code",
      "metadata": {
        "tags": []
      },
      "source": [
        "# update :age and add :brother\n",
        "assigner = { age: [97, 78, 57], brother: ['Santa', nil, 'Momotaro'] }\n",
        "comecome.assign(assigner)"
      ],
      "execution_count": null,
      "outputs": []
    },
    {
      "cell_type": "markdown",
      "metadata": {},
      "source": [
        "`#assign {block}` is also acceptable. We can't use both arguments and a block at a same time. The block should return pairs of key and array_like values as a Hash of `{key => array_like}` or an Array of Array `[[key, array_like], ... ]`. `array_like` is one of `Vector`, `Array` or `Arrow::Array`. Block is called in the context of self."
      ]
    },
    {
      "cell_type": "code",
      "metadata": {
        "tags": []
      },
      "source": [
        "df = RedAmber::DataFrame.new(\n",
        "  index: [0, 1, 2, 3, nil],\n",
        "  float: [0.0, 1.1,  2.2, Float::NAN, nil],\n",
        "  string: ['A', 'B', 'C', 'D', nil])"
      ],
      "execution_count": null,
      "outputs": []
    },
    {
      "cell_type": "code",
      "metadata": {
        "tags": []
      },
      "source": [
        "# update numeric variables\n",
        "df.assign do\n",
        "  vectors.select(&:numeric?).map { |v| [v.key, -v] }\n",
        "end"
      ],
      "execution_count": null,
      "outputs": []
    },
    {
      "cell_type": "markdown",
      "metadata": {},
      "source": [
        "In this example, columns :x and :y are updated. Column :x returns complements for #negate method because :x is :uint8 type."
      ]
    },
    {
      "cell_type": "code",
      "metadata": {
        "tags": []
      },
      "source": [
        "df.types"
      ],
      "execution_count": null,
      "outputs": []
    },
    {
      "cell_type": "markdown",
      "metadata": {},
      "source": [
        "## 35. Coerce (Vector)\n",
        "\n",
        "Vector has coerce method."
      ]
    },
    {
      "cell_type": "code",
      "metadata": {
        "tags": []
      },
      "source": [
        "vector = RedAmber::Vector.new(1,2,3)"
      ],
      "execution_count": null,
      "outputs": []
    },
    {
      "cell_type": "code",
      "metadata": {
        "tags": []
      },
      "source": [
        "# Vector's `#*` method\n",
        "vector * -1"
      ],
      "execution_count": null,
      "outputs": []
    },
    {
      "cell_type": "code",
      "metadata": {
        "tags": []
      },
      "source": [
        "# coerced calculation\n",
        "-1 * vector"
      ],
      "execution_count": null,
      "outputs": []
    },
    {
      "cell_type": "code",
      "metadata": {
        "tags": []
      },
      "source": [
        "# `@-` operator\n",
        "-vector"
      ],
      "execution_count": null,
      "outputs": []
    },
    {
      "cell_type": "markdown",
      "metadata": {},
      "source": [
        "## 36. to_ary (Vector)\n",
        "\n",
        "`Vector#to_ary` will enable implicit conversion to an Array."
      ]
    },
    {
      "cell_type": "code",
      "metadata": {
        "tags": []
      },
      "source": [
        "Array(Vector.new([3, 4, 5]))"
      ],
      "execution_count": null,
      "outputs": []
    },
    {
      "cell_type": "code",
      "metadata": {
        "tags": []
      },
      "source": [
        "[1, 2] + Vector.new([3, 4, 5])"
      ],
      "execution_count": null,
      "outputs": []
    },
    {
      "cell_type": "code",
      "metadata": {
        "tags": []
      },
      "source": [
        "[1, 2, Vector.new([3, 4, 5])].flatten"
      ],
      "execution_count": null,
      "outputs": []
    },
    {
      "cell_type": "markdown",
      "metadata": {},
      "source": [
        "## 37. Fill nil (Vector)\n",
        "\n",
        "`Vector#fill_nil_forward` or `Vector#fill_nil_backward` will\n",
        "propagate the last valid observation forward (or backward).\n",
        "Or preserve nil if all previous values are nil or at the end."
      ]
    },
    {
      "cell_type": "code",
      "metadata": {
        "tags": []
      },
      "source": [
        "integer = Vector.new([0, 1, nil, 3, nil])\n",
        "integer.fill_nil_forward"
      ],
      "execution_count": null,
      "outputs": []
    },
    {
      "cell_type": "code",
      "metadata": {
        "tags": []
      },
      "source": [
        "integer.fill_nil_backward"
      ],
      "execution_count": null,
      "outputs": []
    },
    {
      "cell_type": "markdown",
      "metadata": {},
      "source": [
        "## 38. all?/any? (Vector)\n",
        "\n",
        "`Vector#all?` returns true if all elements is true.\n",
        "\n",
        "`Vector#any?` returns true if exists any true.\n",
        "\n",
        "These are unary aggregation function."
      ]
    },
    {
      "cell_type": "code",
      "metadata": {
        "tags": []
      },
      "source": [
        "booleans = Vector.new([true, true, nil])\n",
        "booleans.all?"
      ],
      "execution_count": null,
      "outputs": []
    },
    {
      "cell_type": "code",
      "metadata": {
        "tags": []
      },
      "source": [
        "booleans.any?"
      ],
      "execution_count": null,
      "outputs": []
    },
    {
      "cell_type": "markdown",
      "metadata": {},
      "source": [
        "If these methods are used with option `skip_nulls: false` nil is considered."
      ]
    },
    {
      "cell_type": "code",
      "metadata": {
        "tags": []
      },
      "source": [
        "booleans.all?(skip_nulls: false)"
      ],
      "execution_count": null,
      "outputs": []
    },
    {
      "cell_type": "code",
      "metadata": {
        "tags": []
      },
      "source": [
        "booleans.any?(skip_nulls: false)"
      ],
      "execution_count": null,
      "outputs": []
    },
    {
      "cell_type": "markdown",
      "metadata": {},
      "source": [
        "## 39. count/count_uniq (Vector)\n",
        "\n",
        "`Vector#count` counts element.\n",
        "\n",
        "`Vector#count_uniq` counts unique element. `#count_distinct` is an alias (Arrow's name).\n",
        "\n",
        "These are unary aggregation function."
      ]
    },
    {
      "cell_type": "code",
      "metadata": {
        "tags": []
      },
      "source": [
        "string = Vector.new(%w[A B A])\n",
        "string.count"
      ],
      "execution_count": null,
      "outputs": []
    },
    {
      "cell_type": "code",
      "metadata": {
        "tags": []
      },
      "source": [
        "string.count_uniq # count_distinct is also OK"
      ],
      "execution_count": null,
      "outputs": []
    },
    {
      "cell_type": "markdown",
      "metadata": {},
      "source": [
        "## 40. stddev/variance (Vector)\n",
        "\n",
        "These are unary element-wise function."
      ]
    },
    {
      "cell_type": "code",
      "metadata": {
        "tags": []
      },
      "source": [
        "integers = Vector.new([1, 2, 3, nil])\n",
        "integers.stddev"
      ],
      "execution_count": null,
      "outputs": []
    },
    {
      "cell_type": "code",
      "metadata": {
        "tags": []
      },
      "source": [
        "# Unbiased standard deviation\n",
        "integers.sd"
      ],
      "execution_count": null,
      "outputs": []
    },
    {
      "cell_type": "code",
      "metadata": {
        "tags": []
      },
      "source": [
        "integers.variance"
      ],
      "execution_count": null,
      "outputs": []
    },
    {
      "cell_type": "code",
      "metadata": {
        "tags": []
      },
      "source": [
        "# Unbiased variance\n",
        "integers.var"
      ],
      "execution_count": null,
      "outputs": []
    },
    {
      "cell_type": "markdown",
      "metadata": {},
      "source": [
        "## 41. negate (Vector)\n",
        "\n",
        "These are unary element-wise function."
      ]
    },
    {
      "cell_type": "code",
      "metadata": {
        "tags": []
      },
      "source": [
        "double = Vector.new([1.0, -2, 3])\n",
        "double.negate"
      ],
      "execution_count": null,
      "outputs": []
    },
    {
      "cell_type": "code",
      "metadata": {
        "tags": []
      },
      "source": [
        "# Same as #negate\n",
        "-double"
      ],
      "execution_count": null,
      "outputs": []
    },
    {
      "cell_type": "markdown",
      "metadata": {},
      "source": [
        "## 42. round (Vector)\n",
        "\n",
        "Otions for `#round`;\n",
        "\n",
        "- `:n-digits` The number of digits to show.\n",
        "- `round_mode` Specify rounding mode.\n",
        "\n",
        "This is a unary element-wise function."
      ]
    },
    {
      "cell_type": "code",
      "metadata": {
        "tags": []
      },
      "source": [
        "double = RedAmber::Vector.new([15.15, 2.5, 3.5, -4.5, -5.5])"
      ],
      "execution_count": null,
      "outputs": []
    },
    {
      "cell_type": "code",
      "metadata": {
        "tags": []
      },
      "source": [
        "double.round"
      ],
      "execution_count": null,
      "outputs": []
    },
    {
      "cell_type": "code",
      "metadata": {
        "tags": []
      },
      "source": [
        "double.round(mode: :half_to_even)"
      ],
      "execution_count": null,
      "outputs": []
    },
    {
      "cell_type": "code",
      "metadata": {
        "tags": []
      },
      "source": [
        "double.round(mode: :towards_infinity)"
      ],
      "execution_count": null,
      "outputs": []
    },
    {
      "cell_type": "code",
      "metadata": {
        "tags": []
      },
      "source": [
        "double.round(mode: :half_up)"
      ],
      "execution_count": null,
      "outputs": []
    },
    {
      "cell_type": "code",
      "metadata": {
        "tags": []
      },
      "source": [
        "double.round(mode: :half_towards_zero)"
      ],
      "execution_count": null,
      "outputs": []
    },
    {
      "cell_type": "code",
      "metadata": {
        "tags": []
      },
      "source": [
        "double.round(mode: :half_towards_infinity)"
      ],
      "execution_count": null,
      "outputs": []
    },
    {
      "cell_type": "code",
      "metadata": {
        "tags": []
      },
      "source": [
        "double.round(mode: :half_to_odd)"
      ],
      "execution_count": null,
      "outputs": []
    },
    {
      "cell_type": "code",
      "metadata": {
        "tags": []
      },
      "source": [
        "double.round(n_digits: 0)"
      ],
      "execution_count": null,
      "outputs": []
    },
    {
      "cell_type": "code",
      "metadata": {
        "tags": []
      },
      "source": [
        "double.round(n_digits: 1)"
      ],
      "execution_count": null,
      "outputs": []
    },
    {
      "cell_type": "code",
      "metadata": {
        "tags": []
      },
      "source": [
        "double.round(n_digits: -1)"
      ],
      "execution_count": null,
      "outputs": []
    },
    {
      "cell_type": "markdown",
      "metadata": {},
      "source": [
        "## 43. and/or (Vector)\n",
        "\n",
        "RedAmber select `and_kleene`/`or_kleene` as default `&`/`|` method.\n",
        "\n",
        "These are unary element-wise function."
      ]
    },
    {
      "cell_type": "code",
      "metadata": {
        "tags": []
      },
      "source": [
        "bool_self  = Vector.new([true, true, true, false, false, false, nil, nil, nil])\n",
        "bool_other = Vector.new([true, false, nil, true, false, nil, true, false, nil])\n",
        "\n",
        "bool_self & bool_other  # same as bool_self.and_kleene(bool_other)"
      ],
      "execution_count": null,
      "outputs": []
    },
    {
      "cell_type": "code",
      "metadata": {
        "tags": []
      },
      "source": [
        "# Ruby's primitive `&&`\n",
        "bool_self && bool_other"
      ],
      "execution_count": null,
      "outputs": []
    },
    {
      "cell_type": "code",
      "metadata": {
        "tags": []
      },
      "source": [
        "# Arrow's default `and`\n",
        "bool_self.and_org(bool_other)"
      ],
      "execution_count": null,
      "outputs": []
    },
    {
      "cell_type": "code",
      "metadata": {
        "tags": []
      },
      "source": [
        "bool_self | bool_other  # same as bool_self.or_kleene(bool_other)"
      ],
      "execution_count": null,
      "outputs": []
    },
    {
      "cell_type": "code",
      "metadata": {
        "tags": []
      },
      "source": [
        "# Ruby's primitive `||`\n",
        "bool_self || bool_other"
      ],
      "execution_count": null,
      "outputs": []
    },
    {
      "cell_type": "code",
      "metadata": {
        "tags": []
      },
      "source": [
        "# Arrow's default `or`\n",
        "bool_self.or_org(bool_other)"
      ],
      "execution_count": null,
      "outputs": []
    },
    {
      "cell_type": "markdown",
      "metadata": {},
      "source": [
        "## 44. is_finite/is_nan/is_nil/is_na (Vector)\n",
        "\n",
        "These are unary element-wise function."
      ]
    },
    {
      "cell_type": "code",
      "metadata": {
        "tags": []
      },
      "source": [
        "double = Vector.new([Math::PI, Float::INFINITY, -Float::INFINITY, Float::NAN, nil])"
      ],
      "execution_count": null,
      "outputs": []
    },
    {
      "cell_type": "code",
      "metadata": {
        "tags": []
      },
      "source": [
        "double.is_finite"
      ],
      "execution_count": null,
      "outputs": []
    },
    {
      "cell_type": "code",
      "metadata": {
        "tags": []
      },
      "source": [
        "double.is_inf"
      ],
      "execution_count": null,
      "outputs": []
    },
    {
      "cell_type": "code",
      "metadata": {
        "tags": []
      },
      "source": [
        "double.is_na"
      ],
      "execution_count": null,
      "outputs": []
    },
    {
      "cell_type": "code",
      "metadata": {
        "tags": []
      },
      "source": [
        "double.is_nil"
      ],
      "execution_count": null,
      "outputs": []
    },
    {
      "cell_type": "code",
      "metadata": {
        "tags": []
      },
      "source": [
        "double.is_valid"
      ],
      "execution_count": null,
      "outputs": []
    },
    {
      "cell_type": "markdown",
      "metadata": {},
      "source": [
        "## 45. Prime-th rows"
      ]
    },
    {
      "cell_type": "code",
      "metadata": {
        "tags": []
      },
      "source": [
        "# prime-th rows ... Don't ask me what it means.\n",
        "require 'prime'\n",
        "penguins.assign_left(:index, penguins.indices + 1) # since 0.2.0\n",
        "        .slice { Vector.new(Prime.each(size).to_a) - 1 }"
      ],
      "execution_count": null,
      "outputs": []
    },
    {
      "cell_type": "markdown",
      "metadata": {},
      "source": [
        "## 46. Slice by Enumerator\n",
        "\n",
        "Slice accepts Enumerator."
      ]
    },
    {
      "cell_type": "code",
      "metadata": {
        "tags": []
      },
      "source": [
        "# Select every 10 samples\n",
        "penguins.assign_left(index: penguins.indices) # 0.2.0 feature\n",
        "        .slice(0.step(by: 10, to: 340))"
      ],
      "execution_count": null,
      "outputs": []
    },
    {
      "cell_type": "code",
      "metadata": {
        "tags": []
      },
      "source": [
        "# Select every 2 samples by step 100\n",
        "penguins.assign_left(index: penguins.indices) # 0.2.0 feature\n",
        "        .slice { 0.step(by: 100, to: 300).map { |i| i..(i+1) } }"
      ],
      "execution_count": null,
      "outputs": []
    },
    {
      "cell_type": "markdown",
      "metadata": {},
      "source": [
        "## 47. Output mode\n",
        "\n",
        "Output mode of `DataFrame#inspect` and `DataFrame#to_iruby` is Table mode by default. If you prefer other mode set the environment variable `RED_AMBER_OUTPUT_MODE` ."
      ]
    },
    {
      "cell_type": "code",
      "metadata": {
        "tags": []
      },
      "source": [
        "ENV['RED_AMBER_OUTPUT_MODE'] = 'Table' # or nil (default)\n",
        "penguins  # Almost same as `puts penguins.to_s` in any mode"
      ],
      "execution_count": null,
      "outputs": []
    },
    {
      "cell_type": "code",
      "metadata": {
        "tags": []
      },
      "source": [
        "penguins[:species]"
      ],
      "execution_count": null,
      "outputs": []
    },
    {
      "cell_type": "code",
      "metadata": {
        "tags": []
      },
      "source": [
        "ENV['RED_AMBER_OUTPUT_MODE'] = 'Plain' # Since 0.2.2\n",
        "penguins"
      ],
      "execution_count": null,
      "outputs": []
    },
    {
      "cell_type": "code",
      "metadata": {
        "tags": []
      },
      "source": [
        "penguins[:species]"
      ],
      "execution_count": null,
      "outputs": []
    },
    {
      "cell_type": "code",
      "metadata": {
        "tags": []
      },
      "source": [
        "ENV['RED_AMBER_OUTPUT_MODE'] = 'Minimum'  # Since 0.2.2\n",
        "penguins"
      ],
      "execution_count": null,
      "outputs": []
    },
    {
      "cell_type": "code",
      "metadata": {
        "tags": []
      },
      "source": [
        "penguins[:species]"
      ],
      "execution_count": null,
      "outputs": []
    },
    {
      "cell_type": "code",
      "metadata": {
        "tags": []
      },
      "source": [
        "ENV['RED_AMBER_OUTPUT_MODE'] = 'TDR'\n",
        "penguins"
      ],
      "execution_count": null,
      "outputs": []
    },
    {
      "cell_type": "code",
      "metadata": {
        "tags": []
      },
      "source": [
        "penguins[:species]"
      ],
      "execution_count": null,
      "outputs": []
    },
    {
      "cell_type": "code",
      "metadata": {
        "tags": []
      },
      "source": [
        "ENV['RED_AMBER_OUTPUT_MODE'] = nil"
      ],
      "execution_count": null,
      "outputs": []
    },
    {
      "cell_type": "markdown",
      "metadata": {},
      "source": [
        "## 48. Empty key\n",
        "\n",
        "Empty key `:\"\"` will be automatically renamed to `:unnamed1`.\n",
        "\n",
        "If `:unnamed1` was used, `:unnamed1.succ` will be used.\n",
        "\n",
        "(Since 0.1.8)"
      ]
    },
    {
      "cell_type": "code",
      "metadata": {
        "tags": []
      },
      "source": [
        "df = DataFrame.new(\"\": [1, 2], unnamed1: [3, 4])"
      ],
      "execution_count": null,
      "outputs": []
    },
    {
      "cell_type": "markdown",
      "metadata": {},
      "source": [
        "## 49. Grouping\n",
        "\n",
        "`DataFrame#group` takes group_key as an argument, and creates `Group` class. \n",
        "\n",
        "Group class inspects counts of each unique elements. \n",
        "\n",
        "(Since 0.1.7)"
      ]
    },
    {
      "cell_type": "code",
      "metadata": {
        "tags": []
      },
      "source": [
        "group = penguins.group(:species)"
      ],
      "execution_count": null,
      "outputs": []
    },
    {
      "cell_type": "markdown",
      "metadata": {},
      "source": [
        "The instance of `Group` class has methods to summary functions.\n",
        "\n",
        "It returns `function(key)` style summarized columns as a result."
      ]
    },
    {
      "cell_type": "code",
      "metadata": {
        "tags": []
      },
      "source": [
        "group.count"
      ],
      "execution_count": null,
      "outputs": []
    },
    {
      "cell_type": "markdown",
      "metadata": {},
      "source": [
        "If count result is same in multiple columns, count column is aggregated to one column `:count`."
      ]
    },
    {
      "cell_type": "code",
      "metadata": {
        "tags": []
      },
      "source": [
        "penguins.pick(:species, :bill_length_mm, :bill_depth_mm).group(:species).count"
      ],
      "execution_count": null,
      "outputs": []
    },
    {
      "cell_type": "markdown",
      "metadata": {},
      "source": [
        "Grouping key comes first (leftmost) in the columns.\n",
        "\n",
        "## 50. Grouping with a block\n",
        "\n",
        "`DataFrame#group` takes a block and we can specify multiple functions.\n",
        "\n",
        "Inside the block is the context of instance of Group. So we can use summary functions without the reciever.\n",
        "\n",
        "(Since 0.1.8)"
      ]
    },
    {
      "cell_type": "code",
      "metadata": {
        "tags": []
      },
      "source": [
        "penguins.group(:species) { [count(:species), mean(:body_mass_g)] }"
      ],
      "execution_count": null,
      "outputs": []
    },
    {
      "cell_type": "markdown",
      "metadata": {},
      "source": [
        "`Group#summarize` accepts same block as `DataFrame#group`."
      ]
    },
    {
      "cell_type": "code",
      "metadata": {
        "tags": []
      },
      "source": [
        "group.summarize { [count(:species), mean] }"
      ],
      "execution_count": null,
      "outputs": []
    },
    {
      "cell_type": "markdown",
      "metadata": {},
      "source": [
        "## 51. Vector#shift\n",
        "\n",
        "`Vector#shift(amount = 1, fill: nil)`\n",
        "\n",
        "Shift vector's values by specified `amount`. Shifted space is filled by value `fill`.\n",
        "\n",
        "(Since 0.1.8)"
      ]
    },
    {
      "cell_type": "code",
      "metadata": {
        "tags": []
      },
      "source": [
        "vector = RedAmber::Vector.new([1, 2, 3, 4, 5])\n",
        "vector.shift"
      ],
      "execution_count": null,
      "outputs": []
    },
    {
      "cell_type": "code",
      "metadata": {
        "tags": []
      },
      "source": [
        "vector.shift(-2)"
      ],
      "execution_count": null,
      "outputs": []
    },
    {
      "cell_type": "code",
      "metadata": {
        "tags": []
      },
      "source": [
        "vector.shift(fill: Float::NAN)"
      ],
      "execution_count": null,
      "outputs": []
    },
    {
      "cell_type": "markdown",
      "metadata": {},
      "source": [
        "## 52. From the Pandas cookbook (if-then)\n",
        "\n",
        "https://pandas.pydata.org/docs/user_guide/cookbook.html#if-then\n",
        "\n",
        "```python\n",
        "# by Python Pandas\n",
        "df = pd.DataFrame(\n",
        "    {\"AAA\": [4, 5, 6, 7], \"BBB\": [10, 20, 30, 40], \"CCC\": [100, 50, -30, -50]}\n",
        ")\n",
        "df.loc[df.AAA >= 5, \"BBB\"] = -1\n",
        "\n",
        "# returns =>\n",
        "   AAA  BBB  CCC\n",
        "0    4   10  100\n",
        "1    5   -1   50\n",
        "2    6   -1  -30\n",
        "3    7   -1  -50\n",
        "```"
      ]
    },
    {
      "cell_type": "code",
      "metadata": {
        "tags": []
      },
      "source": [
        "# RedAmber\n",
        "df = DataFrame.new(\n",
        "  \"AAA\": [4, 5, 6, 7], \"BBB\": [10, 20, 30, 40], \"CCC\": [100, 50, -30, -50]  # You can omit {}\n",
        ")\n",
        "\n",
        "df.assign(BBB: df[:BBB].replace(df[:AAA] >= 5, -1))"
      ],
      "execution_count": null,
      "outputs": []
    },
    {
      "cell_type": "markdown",
      "metadata": {},
      "source": [
        "If you want to replace both :BBB and :CCC ;"
      ]
    },
    {
      "cell_type": "code",
      "metadata": {
        "tags": []
      },
      "source": [
        "df.assign do\n",
        "  replacer = v(:AAA) >= 5  # Boolean Vector\n",
        "  {\n",
        "    BBB: v(:BBB).replace(replacer, -1),\n",
        "    CCC: v(:CCC).replace(replacer, -2)\n",
        "  }\n",
        "end"
      ],
      "execution_count": null,
      "outputs": []
    },
    {
      "cell_type": "markdown",
      "metadata": {},
      "source": [
        "## 53. From the Pandas cookbook (Splitting)\n",
        "Split a frame with a boolean criterion\n",
        "\n",
        "https://pandas.pydata.org/docs/user_guide/cookbook.html#splitting\n",
        "\n",
        "```python\n",
        "# by Python Pandas\n",
        "df = pd.DataFrame(\n",
        "    {\"AAA\": [4, 5, 6, 7], \"BBB\": [10, 20, 30, 40], \"CCC\": [100, 50, -30, -50]}\n",
        ")\n",
        "df[df.AAA <= 5]\n",
        "\n",
        "# returns =>\n",
        "   AAA  BBB  CCC\n",
        "0    4   10  100\n",
        "1    5   20   50\n",
        "\n",
        "df[df.AAA > 5]\n",
        "\n",
        "# returns =>\n",
        "   AAA  BBB  CCC\n",
        "2    6   30  -30\n",
        "3    7   40  -50\n",
        "```"
      ]
    },
    {
      "cell_type": "code",
      "metadata": {
        "tags": []
      },
      "source": [
        "# RedAmber\n",
        "df = DataFrame.new(\n",
        "  # You can omit outer {}\n",
        "  \"AAA\": [4, 5, 6, 7], \"BBB\": [10, 20, 30, 40], \"CCC\": [100, 50, -30, -50]\n",
        ")\n",
        "\n",
        "df.slice(df[:AAA] <= 5)\n",
        "# df[df[:AAA] <= 5] # is also OK"
      ],
      "execution_count": null,
      "outputs": []
    },
    {
      "cell_type": "code",
      "metadata": {
        "tags": []
      },
      "source": [
        "df.remove(df[:AAA] <= 5)\n",
        "# df.slice(df[:AAA] > 5) # do the same thing"
      ],
      "execution_count": null,
      "outputs": []
    },
    {
      "cell_type": "markdown",
      "metadata": {},
      "source": [
        "## 54. From the Pandas cookbook (Building criteria)\n",
        "Split a frame with a boolean criterion\n",
        "\n",
        "https://pandas.pydata.org/docs/user_guide/cookbook.html#building-criteria\n",
        "\n",
        "```python\n",
        "# by Python Pandas\n",
        "df = pd.DataFrame(\n",
        "    {\"AAA\": [4, 5, 6, 7], \"BBB\": [10, 20, 30, 40], \"CCC\": [100, 50, -30, -50]}\n",
        ")\n",
        "\n",
        "# and\n",
        "df.loc[(df[\"BBB\"] < 25) & (df[\"CCC\"] >= -40), \"AAA\"]\n",
        "\n",
        "# returns a series =>\n",
        "0    4\n",
        "1    5\n",
        "Name: AAA, dtype: int64\n",
        "\n",
        "# or\n",
        "df.loc[(df[\"BBB\"] > 25) | (df[\"CCC\"] >= -40), \"AAA\"]\n",
        "\n",
        "# returns a series =>\n",
        "0    4\n",
        "1    5\n",
        "2    6\n",
        "3    7\n",
        "Name: AAA, dtype: int64\n",
        "```"
      ]
    },
    {
      "cell_type": "code",
      "metadata": {
        "tags": []
      },
      "source": [
        "# RedAmber\n",
        "df = DataFrame.new(\n",
        "  # You can omit {}\n",
        "  \"AAA\": [4, 5, 6, 7], \"BBB\": [10, 20, 30, 40], \"CCC\": [100, 50, -30, -50]\n",
        ")\n",
        "\n",
        "df.slice( (df[:BBB] < 25) & (df[:CCC] >= 40) ).pick(:AAA)"
      ],
      "execution_count": null,
      "outputs": []
    },
    {
      "cell_type": "code",
      "metadata": {
        "tags": []
      },
      "source": [
        "df.slice( (df[:BBB] > 25) | (df[:CCC] >= 40) ).pick(:AAA)\n",
        "# df[ (df[:BBB] > 25) | (df[:CCC] >= 40) ][:AAA)] # also OK"
      ],
      "execution_count": null,
      "outputs": []
    },
    {
      "cell_type": "markdown",
      "metadata": {},
      "source": [
        "```python\n",
        "# by Python Pandas\n",
        "# or (with assignment)\n",
        "df.loc[(df[\"BBB\"] > 25) | (df[\"CCC\"] >= 75), \"AAA\"] = 0.1\n",
        "df\n",
        "\n",
        "# returns a dataframe =>\n",
        "   AAA  BBB  CCC\n",
        "0  0.1   10  100\n",
        "1  5.0   20   50\n",
        "2  0.1   30  -30\n",
        "3  0.1   40  -50\n",
        "```"
      ]
    },
    {
      "cell_type": "code",
      "metadata": {
        "tags": []
      },
      "source": [
        "# df.assign(AAA: df[:AAA].replace((df[:BBB] > 25) | (df[:CCC] >= 75), 0.1)) # by one liner\n",
        "\n",
        "booleans = (df[:BBB] > 25) | (df[:CCC] >= 75)\n",
        "replaced = df[:AAA].replace(booleans, 0.1)\n",
        "df.assign(AAA: replaced)"
      ],
      "execution_count": null,
      "outputs": []
    },
    {
      "cell_type": "markdown",
      "metadata": {},
      "source": [
        "```python\n",
        "# by Python Pandas\n",
        "# Select rows with data closest to certain value using argsort\n",
        "df = pd.DataFrame(\n",
        "    {\"AAA\": [4, 5, 6, 7], \"BBB\": [10, 20, 30, 40], \"CCC\": [100, 50, -30, -50]}\n",
        ")\n",
        "aValue = 43.0\n",
        "df.loc[(df.CCC - aValue).abs().argsort()]\n",
        "\n",
        "# returns a dataframe =>\n",
        "   AAA  BBB  CCC\n",
        "1    5   20   50\n",
        "0    4   10  100\n",
        "2    6   30  -30\n",
        "3    7   40  -50\n",
        "```"
      ]
    },
    {
      "cell_type": "code",
      "metadata": {
        "tags": []
      },
      "source": [
        "a_value = 43\n",
        "df[(df[:CCC] - a_value).abs.sort_indexes]\n",
        "# df.slice (df[:CCC] - a_value).abs.sort_indexes # also OK"
      ],
      "execution_count": null,
      "outputs": []
    },
    {
      "cell_type": "markdown",
      "metadata": {},
      "source": [
        "```python\n",
        "# by Python Pandas\n",
        "# Dynamically reduce a list of criteria using a binary operators\n",
        "df = pd.DataFrame(\n",
        "    {\"AAA\": [4, 5, 6, 7], \"BBB\": [10, 20, 30, 40], \"CCC\": [100, 50, -30, -50]}\n",
        ")\n",
        "Crit1 = df.AAA <= 5.5\n",
        "Crit2 = df.BBB == 10.0\n",
        "Crit3 = df.CCC > -40.0\n",
        "AllCrit = Crit1 & Crit2 & Crit3\n",
        "\n",
        "import functools\n",
        "\n",
        "CritList = [Crit1, Crit2, Crit3]\n",
        "AllCrit = functools.reduce(lambda x, y: x & y, CritList)\n",
        "df[AllCrit]\n",
        "\n",
        "# returns a dataframe =>\n",
        "   AAA  BBB  CCC\n",
        "0    4   10  100\n",
        "```"
      ]
    },
    {
      "cell_type": "code",
      "metadata": {
        "tags": []
      },
      "source": [
        "crit1 = df[:AAA] <= 5.5\n",
        "crit2 = df[:BBB] == 10.0\n",
        "crit3 = df[:CCC] >= -40.0\n",
        "df[crit1 & crit2 & crit3]"
      ],
      "execution_count": null,
      "outputs": []
    },
    {
      "cell_type": "markdown",
      "metadata": {},
      "source": [
        "## 55. From the Pandas cookbook (Dataframes)\n",
        "\n",
        "https://pandas.pydata.org/docs/user_guide/cookbook.html#dataframes\n",
        "\n",
        "```python\n",
        "# by Python Pandas\n",
        "# Using both row labels and value conditionals\n",
        "df = pd.DataFrame(\n",
        "    {\"AAA\": [4, 5, 6, 7], \"BBB\": [10, 20, 30, 40], \"CCC\": [100, 50, -30, -50]}\n",
        ")\n",
        "df[(df.AAA <= 6) & (df.index.isin([0, 2, 4]))] \n",
        "\n",
        "# returns =>\n",
        "   AAA  BBB  CCC\n",
        "0    4   10  100\n",
        "2    6   30  -30\n",
        "```"
      ]
    },
    {
      "cell_type": "code",
      "metadata": {
        "tags": []
      },
      "source": [
        "# RedAmber\n",
        "df = DataFrame.new(\n",
        "  \"AAA\": [4, 5, 6, 7], \"BBB\": [10, 20, 30, 40], \"CCC\": [100, 50, -30, -50]\n",
        ")\n",
        "\n",
        "df[(df[:AAA] <= 6) & df.indices.map { |i| [0, 2, 4].include? i }]"
      ],
      "execution_count": null,
      "outputs": []
    },
    {
      "cell_type": "markdown",
      "metadata": {},
      "source": [
        "```python\n",
        "# by Python Pandas\n",
        "# Use loc for label-oriented slicing and iloc positional slicing GH2904\n",
        "df = pd.DataFrame(\n",
        "    {\"AAA\": [4, 5, 6, 7], \"BBB\": [10, 20, 30, 40], \"CCC\": [100, 50, -30, -50]},\n",
        "    index=[\"foo\", \"bar\", \"boo\", \"kar\"],\n",
        ")\n",
        "\n",
        "# There are 2 explicit slicing methods, with a third general case\n",
        "# 1. Positional-oriented (Python slicing style : exclusive of end)\n",
        "# 2. Label-oriented (Non-Python slicing style : inclusive of end)\n",
        "# 3. General (Either slicing style : depends on if the slice contains labels or positions)\n",
        "\n",
        "df.loc[\"bar\":\"kar\"]  # Label\n",
        "# returns =>\n",
        "     AAA  BBB  CCC\n",
        "bar    5   20   50\n",
        "boo    6   30  -30\n",
        "kar    7   40  -50\n",
        "\n",
        "# Generic\n",
        "df[0:3]\n",
        "# returns =>\n",
        "     AAA  BBB  CCC\n",
        "foo    4   10  100\n",
        "bar    5   20   50\n",
        "boo    6   30  -30\n",
        "\n",
        "df[\"bar\":\"kar\"]\n",
        "# returns =>\n",
        "     AAA  BBB  CCC\n",
        "bar    5   20   50\n",
        "boo    6   30  -30\n",
        "kar    7   40  -50\n",
        "```"
      ]
    },
    {
      "cell_type": "code",
      "metadata": {
        "tags": []
      },
      "source": [
        "# RedAmber does not have row index. Use a new column as indexes.\n",
        "labeled = df.assign_left(index: %w[foo bar boo kar])\n",
        "# labeled = df.assign(index: %w[foo bar boo kar]).pick { [keys[-1], keys[0...-1]] } # until v0.1.8"
      ],
      "execution_count": null,
      "outputs": []
    },
    {
      "cell_type": "code",
      "metadata": {
        "tags": []
      },
      "source": [
        "labeled[1..3]"
      ],
      "execution_count": null,
      "outputs": []
    },
    {
      "cell_type": "code",
      "metadata": {
        "tags": []
      },
      "source": [
        "labeled.slice do\n",
        "  v = v(:index)\n",
        "  v.index(\"bar\")..v.index(\"kar\")\n",
        "end"
      ],
      "execution_count": null,
      "outputs": []
    },
    {
      "cell_type": "markdown",
      "metadata": {},
      "source": [
        "`slice_by` returns the same result as above.\n",
        "\n",
        "(Since 0.2.1)"
      ]
    },
    {
      "cell_type": "code",
      "metadata": {
        "tags": []
      },
      "source": [
        "labeled.slice_by(:index, keep_key: true) { \"bar\"..\"kar\"}"
      ],
      "execution_count": null,
      "outputs": []
    },
    {
      "cell_type": "markdown",
      "metadata": {},
      "source": [
        "```python\n",
        "# by Python Pandas\n",
        "# Ambiguity arises when an index consists of integers with a non-zero start or non-unit increment.\n",
        "df2 = pd.DataFrame(data=data, index=[1, 2, 3, 4])  # Note index starts at 1.\n",
        "\n",
        "df2.iloc[1:3]  # Position-oriented\n",
        "# returns =>\n",
        "   AAA  BBB  CCC\n",
        "2    5   20   50\n",
        "3    6   30  -30\n",
        "\n",
        "df2.loc[1:3]  # Label-oriented\n",
        "# returns =>\n",
        "   AAA  BBB  CCC\n",
        "1    4   10  100\n",
        "2    5   20   50\n",
        "3    6   30  -30\n",
        "```"
      ]
    },
    {
      "cell_type": "code",
      "metadata": {
        "tags": []
      },
      "source": [
        "# RedAmber only have an implicit integer index 0...size,\n",
        "# does not happen any ambiguity unless you create a new column and use it for indexes :-)."
      ],
      "execution_count": null,
      "outputs": []
    },
    {
      "cell_type": "markdown",
      "metadata": {},
      "source": [
        "```python\n",
        "# by Python Pandas\n",
        "# Using inverse operator (~) to take the complement of a mask\n",
        "df[~((df.AAA <= 6) & (df.index.isin([0, 2, 4])))]\n",
        "\n",
        "# returns =>\n",
        "   AAA  BBB  CCC\n",
        "1    5   20   50\n",
        "3    7   40  -50\n",
        "```"
      ]
    },
    {
      "cell_type": "code",
      "metadata": {
        "tags": []
      },
      "source": [
        "# RedAmber offers #! method for boolean Vector.\n",
        "df[!((df[:AAA] <= 6) & df.indices.map { |i| [0, 2, 4].include? i })]\n",
        "\n",
        "# or\n",
        "# df[((df[:AAA] <= 6) & df.indices.map { |i| [0, 2, 4].include? i }).invert]"
      ],
      "execution_count": null,
      "outputs": []
    },
    {
      "cell_type": "markdown",
      "metadata": {},
      "source": [
        "If you have `nil` in your data, consider #primitive_invert for consistent result. See example #26.\n",
        "\n",
        "## 56. From the Pandas cookbook (New columns)\n",
        "\n",
        "https://pandas.pydata.org/docs/user_guide/cookbook.html#new-columns\n",
        "\n",
        "```python\n",
        "# by Python Pandas\n",
        "# Efficiently and dynamically creating new columns using applymap\n",
        "df = pd.DataFrame({\"AAA\": [1, 2, 1, 3], \"BBB\": [1, 1, 2, 2], \"CCC\": [2, 1, 3, 1]})\n",
        "df\n",
        "\n",
        "# returns =>\n",
        "   AAA  BBB  CCC\n",
        "0    1    1    2\n",
        "1    2    1    1\n",
        "2    1    2    3\n",
        "3    3    2    1\n",
        "\n",
        "source_cols = df.columns  # Or some subset would work too\n",
        "new_cols = [str(x) + \"_cat\" for x in source_cols]\n",
        "categories = {1: \"Alpha\", 2: \"Beta\", 3: \"Charlie\"}\n",
        "df[new_cols] = df[source_cols].applymap(categories.get)\n",
        "df\n",
        "\n",
        "# returns =>\n",
        "   AAA  BBB  CCC  AAA_cat BBB_cat  CCC_cat\n",
        "0    1    1    2    Alpha   Alpha     Beta\n",
        "1    2    1    1     Beta   Alpha    Alpha\n",
        "2    1    2    3    Alpha    Beta  Charlie\n",
        "3    3    2    1  Charlie    Beta    Alpha\n",
        "```"
      ]
    },
    {
      "cell_type": "code",
      "metadata": {
        "tags": []
      },
      "source": [
        "# RedAmber\n",
        "df = DataFrame.new({\"AAA\": [1, 2, 1, 3], \"BBB\": [1, 1, 2, 2], \"CCC\": [2, 1, 3, 1]})"
      ],
      "execution_count": null,
      "outputs": []
    },
    {
      "cell_type": "code",
      "metadata": {
        "tags": []
      },
      "source": [
        "categories = {1 => \"Alpha\", 2 => \"Beta\", 3 => \"Charlie\"}\n",
        "\n",
        "# Creating a Hash from keys\n",
        "df.assign do\n",
        "  keys.each_with_object({}) do |key, h|\n",
        "    h[\"#{key}_cat\"] = v(key).to_a.map { |x| categories[x] }\n",
        "  end\n",
        "end\n",
        "\n",
        "# Creating an Array from vectors, from v0.2.0\n",
        "df.assign do\n",
        "  vectors.map do |v|\n",
        "    [\"#{v.key}_cat\", v.to_a.map { |x| categories[x] } ]\n",
        "  end\n",
        "end"
      ],
      "execution_count": null,
      "outputs": []
    },
    {
      "cell_type": "markdown",
      "metadata": {},
      "source": [
        "```python\n",
        "# by Python Pandas\n",
        "# Keep other columns when using min() with groupby\n",
        "df = pd.DataFrame(\n",
        "    {\"AAA\": [1, 1, 1, 2, 2, 2, 3, 3], \"BBB\": [2, 1, 3, 4, 5, 1, 2, 3]}\n",
        ")\n",
        "df\n",
        "\n",
        "# returns =>\n",
        "   AAA  BBB\n",
        "0    1    2\n",
        "1    1    1\n",
        "2    1    3\n",
        "3    2    4\n",
        "4    2    5\n",
        "5    2    1\n",
        "6    3    2\n",
        "7    3    3\n",
        "\n",
        "# Method 1 : idxmin() to get the index of the minimums\n",
        "df.loc[df.groupby(\"AAA\")[\"BBB\"].idxmin()]\n",
        "\n",
        "# returns =>\n",
        "   AAA  BBB\n",
        "1    1    1\n",
        "5    2    1\n",
        "6    3    2\n",
        "\n",
        "# Method 2 : sort then take first of each\n",
        "df.sort_values(by=\"BBB\").groupby(\"AAA\", as_index=False).first()\n",
        "\n",
        "# returns =>\n",
        "   AAA  BBB\n",
        "0    1    1\n",
        "1    2    1\n",
        "2    3    2\n",
        "\n",
        "# Notice the same results, with the exception of the index.\n",
        "```"
      ]
    },
    {
      "cell_type": "code",
      "metadata": {
        "tags": []
      },
      "source": [
        "# RedAmber\n",
        "df = DataFrame.new(AAA: [1, 1, 1, 2, 2, 2, 3, 3], BBB: [2, 1, 3, 4, 5, 1, 2, 3])"
      ],
      "execution_count": null,
      "outputs": []
    },
    {
      "cell_type": "code",
      "metadata": {
        "tags": []
      },
      "source": [
        "df.group(:AAA).min\n",
        "\n",
        "# Add `.rename { [keys[-1], :BBB] }` if you want."
      ],
      "execution_count": null,
      "outputs": []
    },
    {
      "cell_type": "markdown",
      "metadata": {},
      "source": [
        "## 57. Summary/describe"
      ]
    },
    {
      "cell_type": "code",
      "metadata": {
        "tags": []
      },
      "source": [
        "penguins.summary\n",
        "# or\n",
        "penguins.describe"
      ],
      "execution_count": null,
      "outputs": []
    },
    {
      "cell_type": "markdown",
      "metadata": {},
      "source": [
        "If you need a variables in row, use `transpose`. (Since 0.2.0)"
      ]
    },
    {
      "cell_type": "code",
      "metadata": {
        "tags": []
      },
      "source": [
        "penguins.summary.transpose(name: :stats)"
      ],
      "execution_count": null,
      "outputs": []
    },
    {
      "cell_type": "markdown",
      "metadata": {},
      "source": [
        "## 58. Quantile/Quantiles\n",
        "\n",
        "`Vector#quantile(prob)` returns quantile at probability `prob`.\n",
        "\n",
        "(Since 0.2.0)"
      ]
    },
    {
      "cell_type": "code",
      "metadata": {
        "tags": []
      },
      "source": [
        "penguins[:bill_depth_mm].quantile # default　is prob = 0.5"
      ],
      "execution_count": null,
      "outputs": []
    },
    {
      "cell_type": "markdown",
      "metadata": {},
      "source": [
        "`Vector#quantiles` accepts an Array for multiple quantiles. Returns a DataFrame."
      ]
    },
    {
      "cell_type": "code",
      "metadata": {
        "tags": []
      },
      "source": [
        "penguins[:bill_depth_mm].quantiles([0.05, 0.95])"
      ],
      "execution_count": null,
      "outputs": []
    },
    {
      "cell_type": "markdown",
      "metadata": {},
      "source": [
        "## 59. Transpose\n",
        "\n",
        "`DataFrame#transpose` creates transposed DataFrame for wide type dataframe.\n",
        "\n",
        "(Since 0.2.0)"
      ]
    },
    {
      "cell_type": "code",
      "metadata": {
        "tags": []
      },
      "source": [
        "uri = URI(\"https://raw.githubusercontent.com/heronshoes/red_amber/master/test/entity/import_cars.tsv\")\n",
        "import_cars = RedAmber::DataFrame.load(uri)"
      ],
      "execution_count": null,
      "outputs": []
    },
    {
      "cell_type": "code",
      "metadata": {
        "tags": []
      },
      "source": [
        "import_cars.transpose"
      ],
      "execution_count": null,
      "outputs": []
    },
    {
      "cell_type": "markdown",
      "metadata": {},
      "source": [
        "Default name of created column is `:NAME`.\n",
        "\n",
        "We can name the column from the keys in original by the option `name:`."
      ]
    },
    {
      "cell_type": "code",
      "metadata": {
        "tags": []
      },
      "source": [
        "import_cars.transpose(key: :Year, name: :Manufacturer)"
      ],
      "execution_count": null,
      "outputs": []
    },
    {
      "cell_type": "markdown",
      "metadata": {},
      "source": [
        "You can specify index column by option `:key` even if it is in the middle of the original DataFrame."
      ]
    },
    {
      "cell_type": "code",
      "metadata": {
        "tags": []
      },
      "source": [
        "# locate `:Year` in the middle\n",
        "df = import_cars.pick(1..2, 0, 3..)"
      ],
      "execution_count": null,
      "outputs": []
    },
    {
      "cell_type": "code",
      "metadata": {
        "tags": []
      },
      "source": [
        "df.transpose(key: :Year)"
      ],
      "execution_count": null,
      "outputs": []
    },
    {
      "cell_type": "markdown",
      "metadata": {},
      "source": [
        "## 60. To_long\n",
        "\n",
        "`DataFrame#to_long(*keep_keys)` reshapes wide DataFrame to the long DataFrame.\n",
        "\n",
        "- Parameter `keep_keys` specifies the key names to keep.\n",
        "\n",
        "(Since 0.2.0)"
      ]
    },
    {
      "cell_type": "code",
      "metadata": {
        "tags": []
      },
      "source": [
        "uri = URI(\"https://raw.githubusercontent.com/heronshoes/red_amber/master/test/entity/import_cars.tsv\")\n",
        "import_cars = RedAmber::DataFrame.load(uri)"
      ],
      "execution_count": null,
      "outputs": []
    },
    {
      "cell_type": "code",
      "metadata": {
        "tags": []
      },
      "source": [
        "import_cars.to_long(:Year)"
      ],
      "execution_count": null,
      "outputs": []
    },
    {
      "cell_type": "markdown",
      "metadata": {},
      "source": [
        "- Option `:name` specify the key of the column which is come **from key names**. Default is `:NAME`.\n",
        "- Option `:value` specify the key of the column which is come **from values**. Default is `:VALUE`."
      ]
    },
    {
      "cell_type": "code",
      "metadata": {
        "tags": []
      },
      "source": [
        "import_cars.to_long(:Year, name: :Manufacturer, value: :Num_of_imported)"
      ],
      "execution_count": null,
      "outputs": []
    },
    {
      "cell_type": "markdown",
      "metadata": {},
      "source": [
        "## 61. To_wide\n",
        "\n",
        "`DataFrame#to_wide(*keep_keys)` reshapes long DataFrame to a wide DataFrame.\n",
        "\n",
        "- Option `:name` specify the key of the column which will be expanded **to key name**. Default is `:NAME`.\n",
        "- Option `:value` specify the key of the column which will be expanded **to values**. Default is `:VALUE`.\n",
        "\n",
        "(Since 0.2.0)"
      ]
    },
    {
      "cell_type": "code",
      "metadata": {
        "tags": []
      },
      "source": [
        "import_cars.to_long(:Year).to_wide"
      ],
      "execution_count": null,
      "outputs": []
    },
    {
      "cell_type": "code",
      "metadata": {
        "tags": []
      },
      "source": [
        "import_cars.to_long(:Year).to_wide(name: :NAME, value: :VALUE)\n",
        "# is also OK"
      ],
      "execution_count": null,
      "outputs": []
    },
    {
      "cell_type": "markdown",
      "metadata": {},
      "source": [
        "## 62. Custom index\n",
        "\n",
        "Another example of `indices` is [14. Indices](#14.-Indices).\n",
        "\n",
        "We can set the start of indices by the option.\n",
        "\n",
        "(Since 0.2.1)"
      ]
    },
    {
      "cell_type": "code",
      "metadata": {
        "tags": []
      },
      "source": [
        "df = DataFrame.new(x: [0, 1, 2, 3, 4])\n",
        "df.indices"
      ],
      "execution_count": null,
      "outputs": []
    },
    {
      "cell_type": "code",
      "metadata": {
        "tags": []
      },
      "source": [
        "df.indices(1)"
      ],
      "execution_count": null,
      "outputs": []
    },
    {
      "cell_type": "markdown",
      "metadata": {},
      "source": [
        "You can put the first value which accepts `#succ` method."
      ]
    },
    {
      "cell_type": "code",
      "metadata": {
        "tags": []
      },
      "source": [
        "df.indices(\"a\")"
      ],
      "execution_count": null,
      "outputs": []
    },
    {
      "cell_type": "markdown",
      "metadata": {},
      "source": [
        "## 63. Method missing\n",
        "\n",
        "`RedAmber::DataFrame` has `#method_missing` to enable to call key names as methods.\n",
        "\n",
        "This feature is limited to what can be called as a method (`:key` is OK, not allowed for the keys `:Key`, `:\"key.1\"`, `:\"1key\"`, etc. ). But it will be convenient in many cases.\n",
        "\n",
        "(Since 0.2.1)"
      ]
    },
    {
      "cell_type": "code",
      "metadata": {
        "tags": []
      },
      "source": [
        "df = DataFrame.new(x: [1, 2, 3])\n",
        "df.x.sum"
      ],
      "execution_count": null,
      "outputs": []
    },
    {
      "cell_type": "code",
      "metadata": {
        "tags": []
      },
      "source": [
        "# Some ways to pull a Vector\n",
        "df[:x] # Formal style\n",
        "\n",
        "df.v(:x) # #v method\n",
        "\n",
        "df.x # method"
      ],
      "execution_count": null,
      "outputs": []
    },
    {
      "cell_type": "code",
      "metadata": {
        "tags": []
      },
      "source": [
        "df.x.sum"
      ],
      "execution_count": null,
      "outputs": []
    },
    {
      "cell_type": "markdown",
      "metadata": {},
      "source": [
        "## 64. Assign revised\n",
        "\n",
        "Another example of `assign` is [#34. Assign](#34.-Assign), [#65. Variations of assign](#65.-Variations-of-assign) ."
      ]
    },
    {
      "cell_type": "code",
      "metadata": {
        "tags": []
      },
      "source": [
        "df = DataFrame.new(x: [1, 2, 3])\n",
        "\n",
        "# Assign by a Hash\n",
        "df.assign(y: df.x / 10.0)"
      ],
      "execution_count": null,
      "outputs": []
    },
    {
      "cell_type": "code",
      "metadata": {
        "tags": []
      },
      "source": [
        "# Assign by separated key and value\n",
        "df.assign(:y) { x / 10.0 }"
      ],
      "execution_count": null,
      "outputs": []
    },
    {
      "cell_type": "code",
      "metadata": {
        "tags": []
      },
      "source": [
        "# Separated keys and values\n",
        "df.assign(:y, :z) { [x * 10, x / 10.0] }"
      ],
      "execution_count": null,
      "outputs": []
    },
    {
      "cell_type": "markdown",
      "metadata": {},
      "source": [
        "## 65. Variations of assign\n",
        "\n",
        "Another example of `assign` is [#34. Assign](#34.-Assign), [#64. Assign revised](#64.-Assign-revised) ."
      ]
    },
    {
      "cell_type": "code",
      "metadata": {
        "tags": []
      },
      "source": [
        "df = DataFrame.new(x: [1, 2, 3])"
      ],
      "execution_count": null,
      "outputs": []
    },
    {
      "cell_type": "code",
      "metadata": {
        "tags": []
      },
      "source": [
        "# Hash args\n",
        "df.assign(y: df[:x] * 10, z: df[:x] / 10.0)\n",
        "\n",
        "# Hash\n",
        "hash = {y: df[:x] * 10, z: df[:x] / 10.0}\n",
        "df.assign(hash)\n",
        "\n",
        "# Array\n",
        "array = [[:y, df[:x] * 10], [:z, df[:x] / 10.0]]\n",
        "df.assign(array)\n",
        "\n",
        "# Array\n",
        "df.assign [\n",
        "  [:y, df[:x] * 10],\n",
        "  [:z, df[:x] / 10.0]\n",
        "]\n",
        "\n",
        "# Hash\n",
        "df.assign({\n",
        "  y: df[:x] * 10,\n",
        "  z: df[:x] / 10.0\n",
        "})\n",
        "\n",
        "# Block, Hash\n",
        "df.assign { {y: df[:x] * 10, z: df[:x] / 10.0} }\n",
        "\n",
        "# Block, Array\n",
        "df.assign { [[:y, df[:x] * 10], [:z, df[:x] / 10.0]] }\n",
        "\n",
        "# Block, Array, method\n",
        "#df.assign { [:y, x * 10], [:z, x / 10.0]] }\n",
        "\n",
        "# Separated\n",
        "#df.assign(:y, :z) { [x * 10, x / 10.0] }"
      ],
      "execution_count": null,
      "outputs": []
    },
    {
      "cell_type": "markdown",
      "metadata": {},
      "source": [
        "## 66. Row index label by slice_by\n",
        "\n",
        "Another example of `slice` is [#28. Slice](#28.-Slice).\n",
        "\n",
        "(Since 0.2.1)"
      ]
    },
    {
      "cell_type": "code",
      "metadata": {
        "tags": []
      },
      "source": [
        "df = DataFrame.new(num: [1.1, 2.2, 3.3, 4.4, 5.5])\n",
        "              .assign_left(:label) { indices(\"a\") }"
      ],
      "execution_count": null,
      "outputs": []
    },
    {
      "cell_type": "markdown",
      "metadata": {},
      "source": [
        "`slice_by(key) { row_selector }` selects rows in column `key` with `row_selector`."
      ]
    },
    {
      "cell_type": "code",
      "metadata": {
        "tags": []
      },
      "source": [
        "df.slice_by(:label) { \"b\"..\"d\" }"
      ],
      "execution_count": null,
      "outputs": []
    },
    {
      "cell_type": "code",
      "metadata": {
        "tags": []
      },
      "source": [
        "df.slice_by(:label) { [\"c\", \"b\", \"e\"] }"
      ],
      "execution_count": null,
      "outputs": []
    },
    {
      "cell_type": "markdown",
      "metadata": {},
      "source": [
        "If the option `keep_key:` set to `true`, index label column is preserved."
      ]
    },
    {
      "cell_type": "code",
      "metadata": {
        "tags": []
      },
      "source": [
        "df.slice_by(:label, keep_key: true) { \"b\"..\"d\" }"
      ],
      "execution_count": null,
      "outputs": []
    },
    {
      "cell_type": "markdown",
      "metadata": {},
      "source": [
        "## 67. Simpson's paradox in COVID-19 data\n",
        "\n",
        "https://www.rdocumentation.org/packages/openintro/versions/2.3.0/topics/simpsons_paradox_covid"
      ]
    },
    {
      "cell_type": "code",
      "metadata": {
        "tags": []
      },
      "source": [
        "require 'datasets-arrow'\n",
        "\n",
        "ds = Datasets::Rdatasets.new('openintro', 'simpsons_paradox_covid')\n",
        "df = RedAmber::DataFrame.new(ds.to_arrow)"
      ],
      "execution_count": null,
      "outputs": []
    },
    {
      "cell_type": "markdown",
      "metadata": {},
      "source": [
        "Create group and count by vaccine status and outcome."
      ]
    },
    {
      "cell_type": "code",
      "metadata": {
        "tags": []
      },
      "source": [
        "count = df.group(:vaccine_status, :outcome).count"
      ],
      "execution_count": null,
      "outputs": []
    },
    {
      "cell_type": "markdown",
      "metadata": {},
      "source": [
        "Reshape to human readable wide table."
      ]
    },
    {
      "cell_type": "code",
      "metadata": {
        "tags": []
      },
      "source": [
        "all_count = count.to_wide(name: :vaccine_status, value: :count)"
      ],
      "execution_count": null,
      "outputs": []
    },
    {
      "cell_type": "markdown",
      "metadata": {},
      "source": [
        "Compute death or survived ratio for vaccine status."
      ]
    },
    {
      "cell_type": "code",
      "metadata": {
        "tags": []
      },
      "source": [
        "all_count.assign do\n",
        "  {\n",
        "    \"vaccinated_%\": 100.0 * vaccinated / vaccinated.sum,\n",
        "    \"unvaccinated_%\": 100.0 * unvaccinated / unvaccinated.sum\n",
        "  }\n",
        "end"
      ],
      "execution_count": null,
      "outputs": []
    },
    {
      "cell_type": "markdown",
      "metadata": {},
      "source": [
        "Death ratio for vaccinated is higher than unvaccinated. Is it true?\n",
        "\n",
        "Next, do the same thing above for each age group. Temporally create methods."
      ]
    },
    {
      "cell_type": "code",
      "metadata": {
        "tags": []
      },
      "source": [
        "def make_covid_table(df)\n",
        "  df.group(:vaccine_status, :outcome)\n",
        "    .count\n",
        "    .to_wide(name: :vaccine_status, value: :count)\n",
        "    .assign do\n",
        "      {\n",
        "        \"vaccinated_%\": (100.0 * vaccinated / vaccinated.sum).round(n_digits: 3),\n",
        "        \"unvaccinated_%\": (100.0 * unvaccinated / unvaccinated.sum).round(n_digits: 3)\n",
        "      }\n",
        "     end\n",
        "end"
      ],
      "execution_count": null,
      "outputs": []
    },
    {
      "cell_type": "code",
      "metadata": {
        "tags": []
      },
      "source": [
        "# under 50\n",
        "make_covid_table(df[df[:age_group] == \"under 50\"])"
      ],
      "execution_count": null,
      "outputs": []
    },
    {
      "cell_type": "code",
      "metadata": {
        "tags": []
      },
      "source": [
        "# 50 +\n",
        "make_covid_table(df[df[:age_group] == \"50 +\"])"
      ],
      "execution_count": null,
      "outputs": []
    },
    {
      "cell_type": "markdown",
      "metadata": {},
      "source": [
        "Death ratio for vaccinated is lower than unvaccinated for grouped subset by age. This is an exaple of \"Simpson's paradox\" ."
      ]
    },
    {
      "cell_type": "code",
      "metadata": {
        "tags": []
      },
      "source": [
        "# Vaccine status vs age\n",
        "# 50+ is highly vaccinated.\n",
        "df.group(:vaccine_status, :age_group).count.to_wide(name: :age_group, value: :count)"
      ],
      "execution_count": null,
      "outputs": []
    },
    {
      "cell_type": "code",
      "metadata": {
        "tags": []
      },
      "source": [
        "# Outcome vs age\n",
        "# 50+ also has higher death rate.\n",
        "df.group(:outcome, :age_group).count.to_wide(name: :age_group, value: :count)"
      ],
      "execution_count": null,
      "outputs": []
    },
    {
      "cell_type": "markdown",
      "metadata": {},
      "source": [
        "## 68. Clean up dirty data"
      ]
    },
    {
      "cell_type": "code",
      "metadata": {
        "tags": []
      },
      "source": [
        "file = Tempfile.open(['dirty_data', '.csv']) do |f|\n",
        "  f.puts(<<~CSV)\n",
        "    height,weight\n",
        "    154.9,52.2\n",
        "    156.8cm,51.1kg\n",
        "    152,49\n",
        "    148.5cm,45.4kg\n",
        "    155cm,\n",
        "    ,49.9kg\n",
        "    1.58m,49.8kg\n",
        "    166.8cm,53.6kg\n",
        "  CSV\n",
        "  f\n",
        "end\n",
        "\n",
        "df = DataFrame.load(file)"
      ],
      "execution_count": null,
      "outputs": []
    },
    {
      "cell_type": "markdown",
      "metadata": {},
      "source": [
        "It was loaded as String Vectors."
      ]
    },
    {
      "cell_type": "code",
      "metadata": {
        "tags": []
      },
      "source": [
        "df.schema"
      ],
      "execution_count": null,
      "outputs": []
    },
    {
      "cell_type": "markdown",
      "metadata": {},
      "source": [
        "First for the `:weight` column. Replacing \"\" to NaN causes casting to Float."
      ]
    },
    {
      "cell_type": "code",
      "metadata": {
        "tags": []
      },
      "source": [
        "df.assign do\n",
        "  {\n",
        "    weight: weight.replace(weight == \"\", Float::NAN)\n",
        "  }\n",
        "end"
      ],
      "execution_count": null,
      "outputs": []
    },
    {
      "cell_type": "markdown",
      "metadata": {},
      "source": [
        "Apply same conversion for `:height` followed by unit conversion by `if_else`."
      ]
    },
    {
      "cell_type": "code",
      "metadata": {
        "tags": []
      },
      "source": [
        "df = df.assign do\n",
        "  {\n",
        "    weight: weight.replace(weight == '', Float::NAN),\n",
        "    height: height.replace(height == '', Float::NAN)\n",
        "                  .then { |h| (h < 10).if_else(h * 100, h) }\n",
        "  }\n",
        "end\n",
        "puts df.schema\n",
        "df"
      ],
      "execution_count": null,
      "outputs": []
    },
    {
      "cell_type": "markdown",
      "metadata": {},
      "source": [
        "We got clean data, then compute BMI as a new column."
      ]
    },
    {
      "cell_type": "code",
      "metadata": {
        "tags": []
      },
      "source": [
        "df.assign(:BMI) { (weight / height ** 2 * 10000).round(n_digits: 1) }"
      ],
      "execution_count": null,
      "outputs": []
    },
    {
      "cell_type": "markdown",
      "metadata": {},
      "source": [
        "## 69. From the Pandas cookbook - Multiindexing\n",
        "\n",
        "(Updated on v0.3.0)\n",
        "https://pandas.pydata.org/docs/user_guide/cookbook.html#multiindexing\n",
        "\n",
        "```python\n",
        "# by Python Pandas\n",
        "# Efficiently and dynamically creating new columns using applymap\n",
        "\n",
        "df = pd.DataFrame(\n",
        "    {\n",
        "        \"row\": [0, 1, 2],\n",
        "        \"One_X\": [1.1, 1.1, 1.1],\n",
        "        \"One_Y\": [1.2, 1.2, 1.2],\n",
        "        \"Two_X\": [1.11, 1.11, 1.11],\n",
        "        \"Two_Y\": [1.22, 1.22, 1.22],\n",
        "    }\n",
        ")\n",
        "df\n",
        "\n",
        "# =>\n",
        "   row  One_X  One_Y  Two_X  Two_Y\n",
        "0    0    1.1    1.2   1.11   1.22\n",
        "1    1    1.1    1.2   1.11   1.22\n",
        "2    2    1.1    1.2   1.11   1.22\n",
        "\n",
        "# As Labelled Index\n",
        "df = df.set_index(\"row\")\n",
        "df\n",
        "\n",
        "# =>\n",
        "     One_X  One_Y  Two_X  Two_Y\n",
        "row                            \n",
        "0      1.1    1.2   1.11   1.22\n",
        "1      1.1    1.2   1.11   1.22\n",
        "2      1.1    1.2   1.11   1.22\n",
        "\n",
        "# With Hierarchical Columns\n",
        "df.columns = pd.MultiIndex.from_tuples([tuple(c.split(\"_\")) for c in df.columns])\n",
        "df\n",
        "\n",
        "# =>\n",
        "     One        Two      \n",
        "       X    Y     X     Y\n",
        "row                      \n",
        "0    1.1  1.2  1.11  1.22\n",
        "1    1.1  1.2  1.11  1.22\n",
        "2    1.1  1.2  1.11  1.22\n",
        "\n",
        "# Now stack & Reset\n",
        "df = df.stack(0).reset_index(1)\n",
        "df\n",
        "\n",
        "# =>\n",
        "    level_1     X     Y\n",
        "row                    \n",
        "0       One  1.10  1.20\n",
        "0       Two  1.11  1.22\n",
        "1       One  1.10  1.20\n",
        "1       Two  1.11  1.22\n",
        "2       One  1.10  1.20\n",
        "2       Two  1.11  1.22\n",
        "\n",
        "# And fix the labels (Notice the label 'level_1' got added automatically)\n",
        "df.columns = [\"Sample\", \"All_X\", \"All_Y\"]\n",
        "df\n",
        "\n",
        "# =>\n",
        "    Sample  All_X  All_Y\n",
        "row                     \n",
        "0      One   1.10   1.20\n",
        "0      Two   1.11   1.22\n",
        "1      One   1.10   1.20\n",
        "1      Two   1.11   1.22\n",
        "2      One   1.10   1.20\n",
        "2      Two   1.11   1.22\n",
        "```\n",
        "\n",
        "(Until 0.2.3)\n",
        "This is an example before `Vector#split` has introduced. See [84. Vector#split](#84.-Vector#split) ."
      ]
    },
    {
      "cell_type": "code",
      "metadata": {
        "tags": []
      },
      "source": [
        "df = RedAmber::DataFrame.new(\n",
        "        \"row\": [0, 1, 2],\n",
        "        \"One_X\": [1.1, 1.1, 1.1],\n",
        "        \"One_Y\": [1.2, 1.2, 1.2],\n",
        "        \"Two_X\": [1.11, 1.11, 1.11],\n",
        "        \"Two_Y\": [1.22, 1.22, 1.22],\n",
        ")"
      ],
      "execution_count": null,
      "outputs": []
    },
    {
      "cell_type": "code",
      "metadata": {
        "tags": []
      },
      "source": [
        "x = df.pick(:row, :One_X, :Two_X)\n",
        "  .to_long(:row, name: :Sample, value: :All_X)"
      ],
      "execution_count": null,
      "outputs": []
    },
    {
      "cell_type": "code",
      "metadata": {
        "tags": []
      },
      "source": [
        "y = df.pick(:row, :One_Y, :Two_Y)\n",
        "  .to_long(:row, name: :Sample, value: :All_Y)"
      ],
      "execution_count": null,
      "outputs": []
    },
    {
      "cell_type": "code",
      "metadata": {
        "tags": []
      },
      "source": [
        "x.pick(:row)\n",
        " .assign [\n",
        "   [:Sample, x[:Sample].each.map { |x| x.split(\"_\").first }],\n",
        "   [:All_X, x[:All_X]],\n",
        "   [:All_Y, y[:All_Y]]\n",
        " ]"
      ],
      "execution_count": null,
      "outputs": []
    },
    {
      "cell_type": "markdown",
      "metadata": {},
      "source": [
        "(Since 0.3.0)\n",
        "This example will use `Vector#split_to_columns`."
      ]
    },
    {
      "cell_type": "code",
      "metadata": {
        "tags": []
      },
      "source": [
        "df = RedAmber::DataFrame.new(\n",
        "        \"row\": [0, 1, 2],\n",
        "        \"One_X\": [1.1, 1.1, 1.1],\n",
        "        \"One_Y\": [1.2, 1.2, 1.2],\n",
        "        \"Two_X\": [1.11, 1.11, 1.11],\n",
        "        \"Two_Y\": [1.22, 1.22, 1.22],\n",
        ")"
      ],
      "execution_count": null,
      "outputs": []
    },
    {
      "cell_type": "code",
      "metadata": {
        "tags": []
      },
      "source": [
        "df.to_long(:row)"
      ],
      "execution_count": null,
      "outputs": []
    },
    {
      "cell_type": "markdown",
      "metadata": {},
      "source": [
        "`Vector#split_to_colums` returns two splitted Vectors."
      ]
    },
    {
      "cell_type": "code",
      "metadata": {
        "tags": []
      },
      "source": [
        "df.to_long(:row, name: :Sample)\n",
        "  .assign(:Sample, :xy) { v(:Sample).split_to_columns('_') }"
      ],
      "execution_count": null,
      "outputs": []
    },
    {
      "cell_type": "code",
      "metadata": {
        "tags": []
      },
      "source": [
        "df.to_long(:row, name: :Sample)\n",
        "  .assign(:Sample, :xy) { v(:Sample).split_to_columns('_') }\n",
        "  .to_wide(name: :xy, value: :VALUE)"
      ],
      "execution_count": null,
      "outputs": []
    },
    {
      "cell_type": "markdown",
      "metadata": {},
      "source": [
        "## 70. From the Pandas cookbook (Arithmetic)\n",
        "\n",
        "https://pandas.pydata.org/docs/user_guide/cookbook.html#arithmetic\n",
        "\n",
        "```python\n",
        "# by Python Pandas\n",
        "cols = pd.MultiIndex.from_tuples(\n",
        "    [(x, y) for x in [\"A\", \"B\", \"C\"] for y in [\"O\", \"I\"]]\n",
        ")\n",
        "\n",
        "df = pd.DataFrame(np.random.randn(2, 6), index=[\"n\", \"m\"], columns=cols)\n",
        "df\n",
        "\n",
        "# =>\n",
        "          A                   B                   C          \n",
        "          O         I         O         I         O         I\n",
        "n  0.469112 -0.282863 -1.509059 -1.135632  1.212112 -0.173215\n",
        "m  0.119209 -1.044236 -0.861849 -2.104569 -0.494929  1.071804\n",
        "\n",
        "df = df.div(df[\"C\"], level=1)\n",
        "df\n",
        "\n",
        "# =>\n",
        "          A                   B              C     \n",
        "          O         I         O         I    O    I\n",
        "n  0.387021  1.633022 -1.244983  6.556214  1.0  1.0\n",
        "m -0.240860 -0.974279  1.741358 -1.963577  1.0  1.0\n",
        "```\n",
        "\n",
        "This is a tentative example. This work may be refined by the coming feature which treats multiple key header easily."
      ]
    },
    {
      "cell_type": "code",
      "metadata": {
        "tags": []
      },
      "source": [
        "require \"arrow-numo-narray\"\n",
        "\n",
        "values = Numo::DFloat.new(6, 2).rand_norm"
      ],
      "execution_count": null,
      "outputs": []
    },
    {
      "cell_type": "markdown",
      "metadata": {},
      "source": [
        "For consistency with the pandas result, we will use same data of them."
      ]
    },
    {
      "cell_type": "code",
      "metadata": {
        "tags": []
      },
      "source": [
        "values = [\n",
        "  [0.469112, -0.282863, -1.509059, -1.135632,  1.212112, -0.173215],\n",
        "  [0.119209, -1.044236, -0.861849, -2.104569, -0.494929,  1.071804]\n",
        "].transpose"
      ],
      "execution_count": null,
      "outputs": []
    },
    {
      "cell_type": "code",
      "metadata": {
        "tags": []
      },
      "source": [
        "keys = %w[A B C].product(%w[O I]).map(&:join)"
      ],
      "execution_count": null,
      "outputs": []
    },
    {
      "cell_type": "code",
      "metadata": {
        "tags": []
      },
      "source": [
        "df = RedAmber::DataFrame.new(index: %w[n m])\n",
        "                        .assign(*keys) { values }"
      ],
      "execution_count": null,
      "outputs": []
    },
    {
      "cell_type": "code",
      "metadata": {
        "tags": []
      },
      "source": [
        "df.assign do\n",
        "  assigner = {}\n",
        "  %w[A B C].each do |abc|\n",
        "    %w[O I].each do |oi|\n",
        "      key = \"#{abc}#{oi}\".to_sym\n",
        "      assigner[key] = v(key) / v(\"C#{oi}\".to_sym)\n",
        "    end\n",
        "  end\n",
        "  assigner\n",
        "end"
      ],
      "execution_count": null,
      "outputs": []
    },
    {
      "cell_type": "code",
      "metadata": {
        "tags": []
      },
      "source": [
        "coords = [[\"AA\", \"one\"], [\"AA\", \"six\"], [\"BB\", \"one\"], [\"BB\", \"two\"], [\"BB\", \"six\"]].transpose\n",
        "df = RedAmber::DataFrame.new(MyData: [11, 22, 33, 44, 55])\n",
        "                        .assign_left(:label1, :label2) { coords }"
      ],
      "execution_count": null,
      "outputs": []
    },
    {
      "cell_type": "markdown",
      "metadata": {},
      "source": [
        "## 71. From the Pandas cookbook (Slicing)\n",
        "\n",
        "https://pandas.pydata.org/docs/user_guide/cookbook.html#slicing\n",
        "\n",
        "```python\n",
        "# by Python Pandas\n",
        "coords = [(\"AA\", \"one\"), (\"AA\", \"six\"), (\"BB\", \"one\"), (\"BB\", \"two\"), (\"BB\", \"six\")]\n",
        "index = pd.MultiIndex.from_tuples(coords)\n",
        "df = pd.DataFrame([11, 22, 33, 44, 55], index, [\"MyData\"])\n",
        "df\n",
        "\n",
        "# =>\n",
        "        MyData\n",
        "AA one      11\n",
        "   six      22\n",
        "BB one      33\n",
        "   two      44\n",
        "   six      55\n",
        "```\n",
        "\n",
        "To take the cross section of the 1st level and 1st axis the index:\n",
        "\n",
        "```python\n",
        "# by Python Pandas\n",
        "# Note : level and axis are optional, and default to zero\n",
        "df.xs(\"BB\", level=0, axis=0)\n",
        "\n",
        "# =>\n",
        "     MyData\n",
        "one      33\n",
        "two      44\n",
        "six      55\n",
        "```"
      ]
    },
    {
      "cell_type": "code",
      "metadata": {
        "tags": []
      },
      "source": [
        "df.slice { label1 == \"BB\" }.drop(:label1)"
      ],
      "execution_count": null,
      "outputs": []
    },
    {
      "cell_type": "markdown",
      "metadata": {},
      "source": [
        "…and now the 2nd level of the 1st axis.\n",
        "\n",
        "```python\n",
        "# by Python Pandas\n",
        "df.xs(\"six\", level=1, axis=0)\n",
        "\n",
        "# =>\n",
        "    MyData\n",
        "AA      22\n",
        "BB      55\n",
        "```"
      ]
    },
    {
      "cell_type": "code",
      "metadata": {
        "tags": []
      },
      "source": [
        "df.slice { label2 == \"six\" }.drop(:label2)"
      ],
      "execution_count": null,
      "outputs": []
    },
    {
      "cell_type": "markdown",
      "metadata": {},
      "source": [
        "```python\n",
        "# by Python Pandas\n",
        "import itertools\n",
        "\n",
        "index = list(itertools.product([\"Ada\", \"Quinn\", \"Violet\"], [\"Comp\", \"Math\", \"Sci\"]))\n",
        "headr = list(itertools.product([\"Exams\", \"Labs\"], [\"I\", \"II\"]))\n",
        "indx = pd.MultiIndex.from_tuples(index, names=[\"Student\", \"Course\"])\n",
        "cols = pd.MultiIndex.from_tuples(headr)  # Notice these are un-named\n",
        "data = [[70 + x + y + (x * y) % 3 for x in range(4)] for y in range(9)]\n",
        "df = pd.DataFrame(data, indx, cols)\n",
        "df\n",
        "\n",
        "# =>\n",
        "               Exams     Labs    \n",
        "                   I  II    I  II\n",
        "Student Course                   \n",
        "Ada     Comp      70  71   72  73\n",
        "        Math      71  73   75  74\n",
        "        Sci       72  75   75  75\n",
        "Quinn   Comp      73  74   75  76\n",
        "        Math      74  76   78  77\n",
        "        Sci       75  78   78  78\n",
        "Violet  Comp      76  77   78  79\n",
        "        Math      77  79   81  80\n",
        "        Sci       78  81   81  81\n",
        "```"
      ]
    },
    {
      "cell_type": "code",
      "metadata": {
        "tags": []
      },
      "source": [
        "indexes = %w[Ada Quinn Violet].product(%w[Comp Math Sci]).transpose\n",
        "df = RedAmber::DataFrame.new(%w[Student Course].zip(indexes))\n",
        "                        .assign do\n",
        "                          assigner = {}\n",
        "                          keys = %w[Exams Labs].product(%w[I II]).map { |a| a.join(\"/\") } \n",
        "                          keys.each.with_index do |key, x|\n",
        "                            assigner[key] = (0...9).map { |y| 70 + x + y + (x * y) % 3 }\n",
        "                          end\n",
        "                          assigner\n",
        "                        end"
      ],
      "execution_count": null,
      "outputs": []
    },
    {
      "cell_type": "markdown",
      "metadata": {},
      "source": [
        "```python\n",
        "# by Python Pandas\n",
        "All = slice(None)\n",
        "\n",
        "df.loc[\"Violet\"]\n",
        "\n",
        "# =>\n",
        "       Exams     Labs    \n",
        "           I  II    I  II\n",
        "Course                   \n",
        "Comp      76  77   78  79\n",
        "Math      77  79   81  80\n",
        "Sci       78  81   81  81\n",
        "```"
      ]
    },
    {
      "cell_type": "code",
      "metadata": {
        "tags": []
      },
      "source": [
        "df.slice(df[:Student] == \"Violet\").drop(:Student)"
      ],
      "execution_count": null,
      "outputs": []
    },
    {
      "cell_type": "markdown",
      "metadata": {},
      "source": [
        "```python\n",
        "# by Python Pandas\n",
        "df.loc[(All, \"Math\"), All]\n",
        "\n",
        "# =>\n",
        "               Exams     Labs    \n",
        "                   I  II    I  II\n",
        "Student Course                   \n",
        "Ada     Math      71  73   75  74\n",
        "Quinn   Math      74  76   78  77\n",
        "Violet  Math      77  79   81  80\n",
        "```"
      ]
    },
    {
      "cell_type": "code",
      "metadata": {
        "tags": []
      },
      "source": [
        "df.slice(df[:Course] == \"Math\")"
      ],
      "execution_count": null,
      "outputs": []
    },
    {
      "cell_type": "markdown",
      "metadata": {},
      "source": [
        "```python\n",
        "# by Python Pandas\n",
        "df.loc[(slice(\"Ada\", \"Quinn\"), \"Math\"), All]\n",
        "\n",
        "# =>\n",
        "               Exams     Labs    \n",
        "                   I  II    I  II\n",
        "Student Course                   \n",
        "Ada     Math      71  73   75  74\n",
        "Quinn   Math      74  76   78  77\n",
        "```"
      ]
    },
    {
      "cell_type": "code",
      "metadata": {
        "tags": []
      },
      "source": [
        "df.slice(df[:Course] == \"Math\")\n",
        "  .slice { (v(:Student) == \"Ada\") | (v(:Student) == \"Quinn\") }"
      ],
      "execution_count": null,
      "outputs": []
    },
    {
      "cell_type": "markdown",
      "metadata": {},
      "source": [
        "```python\n",
        "# by Python Pandas\n",
        "df.loc[(All, \"Math\"), (\"Exams\")]\n",
        "\n",
        "# =>\n",
        "                 I  II\n",
        "Student Course        \n",
        "Ada     Math    71  73\n",
        "Quinn   Math    74  76\n",
        "Violet  Math    77  79\n",
        "```"
      ]
    },
    {
      "cell_type": "code",
      "metadata": {
        "tags": []
      },
      "source": [
        "df.slice(df[:Course] == \"Math\")\n",
        "  .pick {\n",
        "    [:Student, :Course].concat keys.select { |key| key.to_s.start_with?(\"Exams\") }\n",
        "  }"
      ],
      "execution_count": null,
      "outputs": []
    },
    {
      "cell_type": "markdown",
      "metadata": {},
      "source": [
        "```python\n",
        "# by Python Pandas\n",
        "df.loc[(All, \"Math\"), (All, \"II\")]\n",
        "\n",
        "# =>\n",
        "               Exams Labs\n",
        "                  II   II\n",
        "Student Course           \n",
        "Ada     Math      73   74\n",
        "Quinn   Math      76   77\n",
        "Violet  Math      79   80\n",
        "```"
      ]
    },
    {
      "cell_type": "code",
      "metadata": {
        "tags": []
      },
      "source": [
        "df.slice(df[:Course] == \"Math\")\n",
        "  .pick {\n",
        "    [:Student, :Course].concat keys.select { |key| key.to_s.end_with?(\"II\") }\n",
        "  }"
      ],
      "execution_count": null,
      "outputs": []
    },
    {
      "cell_type": "markdown",
      "metadata": {},
      "source": [
        "## 72. Vector#map\n",
        "\n",
        "`Vector#map` method accepts a block and return yielded results from the block in a Vector."
      ]
    },
    {
      "cell_type": "code",
      "metadata": {
        "tags": []
      },
      "source": [
        "v = Vector.new(1, 2, 3, 4)\n",
        "v.map { |x| x / 100.0 }"
      ],
      "execution_count": null,
      "outputs": []
    },
    {
      "cell_type": "markdown",
      "metadata": {},
      "source": [
        "If no block is given, return a Enumerator."
      ]
    },
    {
      "cell_type": "code",
      "metadata": {
        "tags": []
      },
      "source": [
        "v.map"
      ],
      "execution_count": null,
      "outputs": []
    },
    {
      "cell_type": "markdown",
      "metadata": {},
      "source": [
        "If you need ruby's map from a Vector, try `.each.map` ."
      ]
    },
    {
      "cell_type": "code",
      "metadata": {
        "tags": []
      },
      "source": [
        "v.each.map { |x| x / 100.0 }"
      ],
      "execution_count": null,
      "outputs": []
    },
    {
      "cell_type": "markdown",
      "metadata": {},
      "source": [
        "Alias for `#map` is `#collect`\n",
        "\n",
        "Similar method is `Vector#filter/#select`.\n",
        "\n",
        "## 73. Introduce columns from numo/narray\n",
        "\n",
        "(Until 0.2.2 w/Arrow 9.0.0) We couldn't construct the DataFrame with Numo/NArray in current version. But following trick will enable it."
      ]
    },
    {
      "cell_type": "code",
      "metadata": {
        "tags": []
      },
      "source": [
        "DataFrame.new(index: Array(1..10))\n",
        "  .assign do\n",
        "    {\n",
        "      x0: Numo::DFloat.new(size).rand_norm(0, 2),\n",
        "      x1: Numo::DFloat.new(size).rand_norm(5, 2),\n",
        "      x2: Numo::DFloat.new(size).rand_norm(10, 2),\n",
        "      y0: Numo::DFloat.new(size).rand_norm(100, 10),\n",
        "      y1: Numo::DFloat.new(size).rand_norm(200, 10),\n",
        "      y2: Numo::DFloat.new(size).rand_norm(300, 10)\n",
        "    }\n",
        "  end"
      ],
      "execution_count": null,
      "outputs": []
    },
    {
      "cell_type": "markdown",
      "metadata": {},
      "source": [
        "If you do not need the index column, try this."
      ]
    },
    {
      "cell_type": "code",
      "metadata": {
        "tags": []
      },
      "source": [
        "DataFrame.new(_: Array(1..10))\n",
        "  .assign do\n",
        "    {\n",
        "      x0: Numo::DFloat.new(size).rand_norm(0, 2),\n",
        "      x1: Numo::DFloat.new(size).rand_norm(5, 2),\n",
        "      x2: Numo::DFloat.new(size).rand_norm(10, 2),\n",
        "      y0: Numo::DFloat.new(size).rand_norm(100, 10),\n",
        "      y1: Numo::DFloat.new(size).rand_norm(200, 10),\n",
        "      y2: Numo::DFloat.new(size).rand_norm(300, 10)\n",
        "    }\n",
        "  end\n",
        "  .drop(:_)"
      ],
      "execution_count": null,
      "outputs": []
    },
    {
      "cell_type": "markdown",
      "metadata": {},
      "source": [
        "(New from 0.2.3 with Aroow 10.0.0) It is possible to initialize by objects responsible to `to_arrow` since 0.2.3 . Arrays in Numo::NArray is responsible to `to_arrow` with `red-arrow-numo-narray` gem. This feature is proposed by the Red Data Tools member @kojix2 and implemented by @kou in Arrow 10.0.0 and Red Arrow Numo::NArray 0.0.6. Thanks!"
      ]
    },
    {
      "cell_type": "code",
      "metadata": {
        "tags": []
      },
      "source": [
        "require 'arrow-numo-narray'\n",
        "\n",
        "size = 10\n",
        "DataFrame.new(\n",
        "  x0: Numo::DFloat.new(size).rand_norm(0, 2),\n",
        "  x1: Numo::DFloat.new(size).rand_norm(5, 2),\n",
        "  x2: Numo::DFloat.new(size).rand_norm(10, 2),\n",
        "  y0: Numo::DFloat.new(size).rand_norm(100, 10),\n",
        "  y1: Numo::DFloat.new(size).rand_norm(200, 10),\n",
        "  y2: Numo::DFloat.new(size).rand_norm(300, 10)\n",
        ")"
      ],
      "execution_count": null,
      "outputs": []
    },
    {
      "cell_type": "markdown",
      "metadata": {},
      "source": [
        "## 74. Join (mutating joins)\n",
        "\n",
        "(Since 0.2.3)"
      ]
    },
    {
      "cell_type": "code",
      "metadata": {
        "tags": []
      },
      "source": [
        "df = DataFrame.new(\n",
        "  KEY: %w[A B C],\n",
        "  X1: [1, 2, 3]\n",
        ")"
      ],
      "execution_count": null,
      "outputs": []
    },
    {
      "cell_type": "code",
      "metadata": {
        "tags": []
      },
      "source": [
        "other = DataFrame.new(\n",
        "  KEY: %w[A B D],\n",
        "  X2: [true, false, nil]\n",
        ")"
      ],
      "execution_count": null,
      "outputs": []
    },
    {
      "cell_type": "markdown",
      "metadata": {},
      "source": [
        "Inner join will join data leaving only the matching records."
      ]
    },
    {
      "cell_type": "code",
      "metadata": {
        "tags": []
      },
      "source": [
        "df.inner_join(other, :KEY)"
      ],
      "execution_count": null,
      "outputs": []
    },
    {
      "cell_type": "markdown",
      "metadata": {},
      "source": [
        "If we omit join keys, common keys are automatically chosen (natural key)."
      ]
    },
    {
      "cell_type": "code",
      "metadata": {
        "tags": []
      },
      "source": [
        "df.inner_join(other)"
      ],
      "execution_count": null,
      "outputs": []
    },
    {
      "cell_type": "markdown",
      "metadata": {},
      "source": [
        "Full join will join data leaving all records."
      ]
    },
    {
      "cell_type": "code",
      "metadata": {
        "tags": []
      },
      "source": [
        "df.full_join(other)"
      ],
      "execution_count": null,
      "outputs": []
    },
    {
      "cell_type": "markdown",
      "metadata": {},
      "source": [
        "Left join will join matching values to self from other (type: left_outer)."
      ]
    },
    {
      "cell_type": "code",
      "metadata": {
        "tags": []
      },
      "source": [
        "df.left_join(other)"
      ],
      "execution_count": null,
      "outputs": []
    },
    {
      "cell_type": "markdown",
      "metadata": {},
      "source": [
        "Right join will join matching values from self to other (type: right_outer)."
      ]
    },
    {
      "cell_type": "code",
      "metadata": {
        "tags": []
      },
      "source": [
        "df.right_join(other)"
      ],
      "execution_count": null,
      "outputs": []
    },
    {
      "cell_type": "markdown",
      "metadata": {},
      "source": [
        "Left join will join matching values to self from other."
      ]
    },
    {
      "cell_type": "code",
      "metadata": {
        "tags": []
      },
      "source": [
        "df.left_join(other)"
      ],
      "execution_count": null,
      "outputs": []
    },
    {
      "cell_type": "markdown",
      "metadata": {},
      "source": [
        "## 75. Join (filtering joins)\n",
        "\n",
        "(Since 0.2.3)\n",
        "\n",
        "Semi join will return records of self that have a match in other."
      ]
    },
    {
      "cell_type": "code",
      "metadata": {
        "tags": []
      },
      "source": [
        "df.semi_join(other)"
      ],
      "execution_count": null,
      "outputs": []
    },
    {
      "cell_type": "markdown",
      "metadata": {},
      "source": [
        "Anti join will return records of self that do not have a match in other."
      ]
    },
    {
      "cell_type": "code",
      "metadata": {
        "tags": []
      },
      "source": [
        "df.anti_join(other)"
      ],
      "execution_count": null,
      "outputs": []
    },
    {
      "cell_type": "markdown",
      "metadata": {},
      "source": [
        "## 76. Partial joins\n",
        "\n",
        "(Since 0.2.3)"
      ]
    },
    {
      "cell_type": "code",
      "metadata": {
        "tags": []
      },
      "source": [
        "df2 = DataFrame.new(\n",
        "  KEY1: %w[A B C],\n",
        "  KEY2: %w[s t u],\n",
        "  X: [1, 2, 3]\n",
        ")"
      ],
      "execution_count": null,
      "outputs": []
    },
    {
      "cell_type": "code",
      "metadata": {
        "tags": []
      },
      "source": [
        "other2 = DataFrame.new(\n",
        "  KEY1: %w[A B D],\n",
        "  KEY2: %w[s u v],\n",
        "  Y: [3, 2, 1]\n",
        ")"
      ],
      "execution_count": null,
      "outputs": []
    },
    {
      "cell_type": "code",
      "metadata": {
        "tags": []
      },
      "source": [
        "# natural join\n",
        "df2.inner_join(other2)\n",
        "# Same as df2.inner_join(other2, [:KEY1, :KEY2])"
      ],
      "execution_count": null,
      "outputs": []
    },
    {
      "cell_type": "markdown",
      "metadata": {},
      "source": [
        "Partial join enables some part of common keys as join keys.\n",
        "\n",
        "Common keys of other not used as join keys will renamed as `:suffix`. Default suffix is '.1'."
      ]
    },
    {
      "cell_type": "code",
      "metadata": {
        "tags": []
      },
      "source": [
        "# partial join\n",
        "df2.inner_join(other2, :KEY1)"
      ],
      "execution_count": null,
      "outputs": []
    },
    {
      "cell_type": "code",
      "metadata": {
        "tags": []
      },
      "source": [
        "df2.inner_join(other2, :KEY1, suffix: '_')"
      ],
      "execution_count": null,
      "outputs": []
    },
    {
      "cell_type": "markdown",
      "metadata": {},
      "source": [
        "## 77. Order of record in join\n",
        "\n",
        "Order of records is not guaranteed to be preserved before or after join. This is a similar property to RDB. Records behave like a set.\n",
        "\n",
        "If you want to preserve the order of records, it is recommended to add an index or sort.\n",
        "\n",
        "(Since 0.2.3)"
      ]
    },
    {
      "cell_type": "code",
      "metadata": {
        "tags": []
      },
      "source": [
        "df2"
      ],
      "execution_count": null,
      "outputs": []
    },
    {
      "cell_type": "code",
      "metadata": {
        "tags": []
      },
      "source": [
        "other2"
      ],
      "execution_count": null,
      "outputs": []
    },
    {
      "cell_type": "code",
      "metadata": {
        "tags": []
      },
      "source": [
        "df2.full_join(other2, :KEY2)"
      ],
      "execution_count": null,
      "outputs": []
    },
    {
      "cell_type": "markdown",
      "metadata": {},
      "source": [
        "## 78. Set operations\n",
        "\n",
        "Keys in self and other must be same in set operations.\n",
        "\n",
        "(Since 0.2.3)"
      ]
    },
    {
      "cell_type": "code",
      "metadata": {
        "tags": []
      },
      "source": [
        "df = DataFrame.new(\n",
        "  KEY1: %w[A B C],\n",
        "  KEY2: [1, 2, 3]\n",
        ")"
      ],
      "execution_count": null,
      "outputs": []
    },
    {
      "cell_type": "code",
      "metadata": {
        "tags": []
      },
      "source": [
        "other = DataFrame.new(\n",
        "  KEY1: %w[A B D],\n",
        "  KEY2: [1, 4, 5]\n",
        ")"
      ],
      "execution_count": null,
      "outputs": []
    },
    {
      "cell_type": "markdown",
      "metadata": {},
      "source": [
        "Intersect will select records appearing in both self and other."
      ]
    },
    {
      "cell_type": "code",
      "metadata": {
        "tags": []
      },
      "source": [
        "df.intersect(other)"
      ],
      "execution_count": null,
      "outputs": []
    },
    {
      "cell_type": "markdown",
      "metadata": {},
      "source": [
        "Union will select records appearing in both self or other."
      ]
    },
    {
      "cell_type": "code",
      "metadata": {
        "tags": []
      },
      "source": [
        "df.union(other)"
      ],
      "execution_count": null,
      "outputs": []
    },
    {
      "cell_type": "markdown",
      "metadata": {},
      "source": [
        "Difference will select records appearing in self but not in other.\n",
        "\n",
        "It has an alias `#setdiff`."
      ]
    },
    {
      "cell_type": "code",
      "metadata": {
        "tags": []
      },
      "source": [
        "df.difference(other)"
      ],
      "execution_count": null,
      "outputs": []
    },
    {
      "cell_type": "markdown",
      "metadata": {},
      "source": [
        "## 79. Join (big method)\n",
        "\n",
        "Undocumented big method `join` supports all mutating joins, filtering joins and set operations.\n",
        "\n",
        "|category|method of RedAmber|:type in join method|requirement|\n",
        "|-|-|-|-|\n",
        "|mutating joins|#inner_join|:inner||\n",
        "|mutating joins|#full_join|:full_outer||\n",
        "|mutating joins|#left_join|:left_outer||\n",
        "|mutating joins|#right_join|:right_outer||\n",
        "|-|-|:right_semi||\n",
        "|-|-|:right_anti||\n",
        "|filtering joins|#semi_join|:left_semi||\n",
        "|filtering joins|#anti_join|:left_anti||\n",
        "|set operations|#intersect|:inner|must have same keys with self and other|\n",
        "|set operations|#union|:full_outer|must have same keys with self and other|\n",
        "|set operations|#difference|:left_anti|must have same keys with self and other|\n",
        "\n",
        "(Since 0.2.3)"
      ]
    },
    {
      "cell_type": "code",
      "metadata": {
        "tags": []
      },
      "source": [
        "df = DataFrame.new(\n",
        "  KEY: %w[A B C],\n",
        "  X1: [1, 2, 3]\n",
        ")"
      ],
      "execution_count": null,
      "outputs": []
    },
    {
      "cell_type": "code",
      "metadata": {
        "tags": []
      },
      "source": [
        "other = DataFrame.new(\n",
        "  KEY: %w[A B D],\n",
        "  X2: [true, false, nil]\n",
        ")"
      ],
      "execution_count": null,
      "outputs": []
    },
    {
      "cell_type": "code",
      "metadata": {
        "tags": []
      },
      "source": [
        "df.join(other, :KEY, type: :inner)\n",
        "# Same as df.inner_join(other)"
      ],
      "execution_count": null,
      "outputs": []
    },
    {
      "cell_type": "markdown",
      "metadata": {},
      "source": [
        "## 80. Force order for #join\n",
        "We can use `:force_order` option to ensure unique order for `join` families.\n",
        "(`#full_join`, `#right_join` and `#join with :full_outer or :right_outer`)\n",
        "\n",
        "If this option is true (by default) it will append index to the source and sort after joining. It will cause some degradation in performance.\n",
        "\n",
        "(Since 0.4.0)"
      ]
    },
    {
      "cell_type": "code",
      "metadata": {
        "tags": []
      },
      "source": [
        "df2 = DataFrame.new(\n",
        "  KEY1: %w[A B C],\n",
        "  KEY2: %w[s t u],\n",
        "  X: [1, 2, 3]\n",
        ")"
      ],
      "execution_count": null,
      "outputs": []
    },
    {
      "cell_type": "code",
      "metadata": {
        "tags": []
      },
      "source": [
        "right2 = DataFrame.new(\n",
        "  KEY1: %w[A B D],\n",
        "  KEY2: %w[s u v],\n",
        "  Y: [3, 2, 1]\n",
        ")"
      ],
      "execution_count": null,
      "outputs": []
    },
    {
      "cell_type": "code",
      "metadata": {
        "tags": []
      },
      "source": [
        "df2.full_join(right2, :KEY2)"
      ],
      "execution_count": null,
      "outputs": []
    },
    {
      "cell_type": "code",
      "metadata": {
        "tags": []
      },
      "source": [
        "df2.full_join(right2, :KEY2, force_order: false)"
      ],
      "execution_count": null,
      "outputs": []
    },
    {
      "cell_type": "code",
      "metadata": {
        "tags": []
      },
      "source": [
        "df2.full_join(right2, { left: :KEY2, right: 'KEY2' })"
      ],
      "execution_count": null,
      "outputs": []
    },
    {
      "cell_type": "code",
      "metadata": {
        "tags": []
      },
      "source": [
        "df2.full_join(right2, { left: :KEY2, right: 'KEY2' }, force_order: false)"
      ],
      "execution_count": null,
      "outputs": []
    },
    {
      "cell_type": "markdown",
      "metadata": {},
      "source": [
        "## 81. Binding DataFrames in vertical (concatenate)\n",
        "\n",
        "Concatenate another DataFrame or Table onto the bottom of self. The shape and data type of other must be the same as self.\n",
        "\n",
        "The alias is `concat`.\n",
        "(Since 0.2.3)"
      ]
    },
    {
      "cell_type": "code",
      "metadata": {
        "tags": []
      },
      "source": [
        "df = DataFrame.new(x: [1, 2], y: ['A', 'B'])"
      ],
      "execution_count": null,
      "outputs": []
    },
    {
      "cell_type": "code",
      "metadata": {
        "tags": []
      },
      "source": [
        "other = DataFrame.new(x: [3, 4], y: ['C', 'D'])"
      ],
      "execution_count": null,
      "outputs": []
    },
    {
      "cell_type": "code",
      "metadata": {
        "tags": []
      },
      "source": [
        "df.concatenate(other)"
      ],
      "execution_count": null,
      "outputs": []
    },
    {
      "cell_type": "markdown",
      "metadata": {},
      "source": [
        "## 82. Binding DataFrames in lateral (merge)\n",
        "\n",
        "Concatenate another DataFrame or Table onto the bottom of self. The shape and data type of other must be the same as self.\n",
        "\n",
        "(Since 0.2.3)"
      ]
    },
    {
      "cell_type": "code",
      "metadata": {
        "tags": []
      },
      "source": [
        "df = DataFrame.new(x: [1, 2], y: [3, 4])"
      ],
      "execution_count": null,
      "outputs": []
    },
    {
      "cell_type": "code",
      "metadata": {
        "tags": []
      },
      "source": [
        "other = DataFrame.new(a: ['A', 'B'], b: ['C', 'D'])"
      ],
      "execution_count": null,
      "outputs": []
    },
    {
      "cell_type": "code",
      "metadata": {
        "tags": []
      },
      "source": [
        "df.merge(other)"
      ],
      "execution_count": null,
      "outputs": []
    },
    {
      "cell_type": "markdown",
      "metadata": {},
      "source": [
        "## 83. Join - larger example by nycflight13\n",
        "\n",
        "(Since 0.2.3)\n",
        "\n",
        "'nycflights13' dataset is a large dataset. It will take a while for the first run to fetch and prepare red-datasets cache."
      ]
    },
    {
      "cell_type": "code",
      "metadata": {
        "tags": []
      },
      "source": [
        "require 'datasets-arrow'\n",
        "\n",
        "package = 'nycflights13'\n",
        "\n",
        "airlines = DataFrame.new(Datasets::Rdatasets.new(package, 'airlines'))\n",
        "airports = DataFrame.new(Datasets::Rdatasets.new(package, 'airports'))\n",
        "flights  = DataFrame.new(Datasets::Rdatasets.new(package, 'flights'))\n",
        "  .pick(%i[month day carrier flight tailnum origin dest air_time distance])\n",
        "planes   = DataFrame.new(Datasets::Rdatasets.new(package, 'planes'))\n",
        "weather  = DataFrame.new(Datasets::Rdatasets.new(package, 'weather'))\n",
        "\n",
        "flights"
      ],
      "execution_count": null,
      "outputs": []
    },
    {
      "cell_type": "code",
      "metadata": {
        "tags": []
      },
      "source": [
        "airlines"
      ],
      "execution_count": null,
      "outputs": []
    },
    {
      "cell_type": "code",
      "metadata": {},
      "source": [
        "# inner join\n",
        "flights.inner_join(airlines, :carrier)\n",
        "# flights.inner_join(airlines) # natural join (same result)"
      ],
      "execution_count": null,
      "outputs": []
    },
    {
      "cell_type": "markdown",
      "metadata": {},
      "source": [
        "## 84. Vector#split_to_columns\n",
        "\n",
        "Another example using in the DataFrame operation is in [## 69. From the Pandas cookbook (Multiindexing)](#69.-From-the-Pandas-cookbook---Multiindexing).\n",
        "\n",
        "`self` must be a String type Vector.\n",
        "\n",
        "(Since 0.3.0)"
      ]
    },
    {
      "cell_type": "code",
      "metadata": {
        "tags": []
      },
      "source": [
        "v = Vector.new(['a b', 'c d', 'e f'])"
      ],
      "execution_count": null,
      "outputs": []
    },
    {
      "cell_type": "code",
      "metadata": {
        "tags": []
      },
      "source": [
        "v.split_to_columns"
      ],
      "execution_count": null,
      "outputs": []
    },
    {
      "cell_type": "markdown",
      "metadata": {},
      "source": [
        "`#split` accepts `sep` argument as a separator. `sep` is passed to `String#split(sep)`."
      ]
    },
    {
      "cell_type": "code",
      "metadata": {
        "tags": []
      },
      "source": [
        "Vector.new('ab', 'cd', 'ef')\n",
        "      .split_to_columns('')"
      ],
      "execution_count": null,
      "outputs": []
    },
    {
      "cell_type": "markdown",
      "metadata": {},
      "source": [
        "nil will separated as nil."
      ]
    },
    {
      "cell_type": "code",
      "metadata": {
        "tags": []
      },
      "source": [
        "Vector.new(nil, 'c d', 'e f')\n",
        "      .split_to_columns"
      ],
      "execution_count": null,
      "outputs": []
    },
    {
      "cell_type": "markdown",
      "metadata": {},
      "source": [
        "## 85. Vector#split_to_rows\n",
        "\n",
        "`#split_to_rows` will separate strings and flatten into row.\n",
        "\n",
        "(Since 0.3.0)"
      ]
    },
    {
      "cell_type": "code",
      "metadata": {
        "tags": []
      },
      "source": [
        "v = Vector.new(['a b', 'c d', 'e f'])"
      ],
      "execution_count": null,
      "outputs": []
    },
    {
      "cell_type": "code",
      "metadata": {
        "tags": []
      },
      "source": [
        "v.split_to_rows"
      ],
      "execution_count": null,
      "outputs": []
    },
    {
      "cell_type": "markdown",
      "metadata": {},
      "source": [
        "## 86. Vector#merge\n",
        "(Since 0.3.0)\n",
        "\n",
        "`Vector#merge(other)` merges `self` and `other` if they are String Vector."
      ]
    },
    {
      "cell_type": "code",
      "metadata": {
        "tags": []
      },
      "source": [
        "vector = Vector.new(%w[a c e])\n",
        "other = Vector.new(%w[b d f])\n",
        "vector.merge(other)"
      ],
      "execution_count": null,
      "outputs": []
    },
    {
      "cell_type": "markdown",
      "metadata": {},
      "source": [
        "If `other` is scalar, it will be appended to each elements of `self`."
      ]
    },
    {
      "cell_type": "code",
      "metadata": {
        "tags": []
      },
      "source": [
        "vector.merge('x')"
      ],
      "execution_count": null,
      "outputs": []
    },
    {
      "cell_type": "markdown",
      "metadata": {},
      "source": [
        "Option `:sep` is used to concatenating elements. Its default value is ' '."
      ]
    },
    {
      "cell_type": "code",
      "metadata": {
        "tags": []
      },
      "source": [
        "vector.merge('x', sep: '')"
      ],
      "execution_count": null,
      "outputs": []
    },
    {
      "cell_type": "markdown",
      "metadata": {},
      "source": [
        "## 87. Separate a variable (column) in a DataFrame\n",
        "(Since 0.3.0)\n",
        "\n",
        "R's separate operation.\n",
        "\n",
        "https://tidyr.tidyverse.org/reference/separate.html"
      ]
    },
    {
      "cell_type": "code",
      "metadata": {
        "tags": []
      },
      "source": [
        "df = DataFrame.new(xyz: [nil, 'x.y', 'x.z', 'y.z'])"
      ],
      "execution_count": null,
      "outputs": []
    },
    {
      "cell_type": "markdown",
      "metadata": {},
      "source": [
        "Instead of `separate(:xyz, [:a, :b])` we will do:"
      ]
    },
    {
      "cell_type": "code",
      "metadata": {
        "tags": []
      },
      "source": [
        "df.assign(:A, :B) { xyz.split_to_columns('.') }\n",
        "  .drop(:xyz)"
      ],
      "execution_count": null,
      "outputs": []
    },
    {
      "cell_type": "markdown",
      "metadata": {},
      "source": [
        "If you need :B only, instead of `separate(:xyz, [nil, :B])` we will do:"
      ]
    },
    {
      "cell_type": "code",
      "metadata": {
        "tags": []
      },
      "source": [
        "df.assign(:A, :B) { xyz.split_to_columns('.') }\n",
        "  .pick(:B)"
      ],
      "execution_count": null,
      "outputs": []
    },
    {
      "cell_type": "markdown",
      "metadata": {},
      "source": [
        "When splitted length is not equal, split returns max size of Vector Array filled with nil."
      ]
    },
    {
      "cell_type": "code",
      "metadata": {
        "tags": []
      },
      "source": [
        "df = DataFrame.new(xyz: ['x', 'x y', 'x y z', nil])\n",
        "df.assign(:x, :y, :z) { xyz.split_to_columns }"
      ],
      "execution_count": null,
      "outputs": []
    },
    {
      "cell_type": "markdown",
      "metadata": {},
      "source": [
        "Split limiting max 2 elemnts."
      ]
    },
    {
      "cell_type": "code",
      "metadata": {
        "tags": []
      },
      "source": [
        "df.assign(:x, :yz) { xyz.split_to_columns(' ', 2) }"
      ],
      "execution_count": null,
      "outputs": []
    },
    {
      "cell_type": "markdown",
      "metadata": {},
      "source": [
        "Another example:"
      ]
    },
    {
      "cell_type": "code",
      "metadata": {
        "tags": []
      },
      "source": [
        "df = DataFrame.new(id: 1..3, 'month-year': %w[8-2022 9-2022 10-2022])\n",
        "  .assign(:month, :year) { v(:'month-year').split_to_columns('-') }"
      ],
      "execution_count": null,
      "outputs": []
    },
    {
      "cell_type": "markdown",
      "metadata": {},
      "source": [
        "Split between the letters."
      ]
    },
    {
      "cell_type": "code",
      "metadata": {
        "tags": []
      },
      "source": [
        "df = DataFrame.new(id: 1..3, yearmonth: %w[202209 202210 202211])\n",
        "  .assign(:year, :month) { yearmonth.split_to_columns(/(?=..$)/) }"
      ],
      "execution_count": null,
      "outputs": []
    },
    {
      "cell_type": "markdown",
      "metadata": {},
      "source": [
        "## 88. Unite variables (columns) in a DataFrame\n",
        "(Since 0.3.0)\n",
        "\n",
        "R's unite operation."
      ]
    },
    {
      "cell_type": "code",
      "metadata": {
        "tags": []
      },
      "source": [
        "df = DataFrame.new(id: 1..3, year: %w[2022 2022 2022], month: %w[09 10 11])"
      ],
      "execution_count": null,
      "outputs": []
    },
    {
      "cell_type": "code",
      "metadata": {
        "tags": []
      },
      "source": [
        "df.assign(:yearmonth) { year.merge(month, sep: '') }\n",
        "  .pick(:id, :yearmonth)"
      ],
      "execution_count": null,
      "outputs": []
    },
    {
      "cell_type": "code",
      "metadata": {
        "tags": []
      },
      "source": [
        "# Or directly create:\n",
        "DataFrame.new(id: 1..3, yearmonth: df.year.merge(df.month, sep: ''))"
      ],
      "execution_count": null,
      "outputs": []
    },
    {
      "cell_type": "markdown",
      "metadata": {},
      "source": [
        "## 89. Separate variable and lengthen into several rows.\n",
        "(Since 0.3.0)\n",
        "\n",
        "R's separate_rows operation."
      ]
    },
    {
      "cell_type": "code",
      "metadata": {
        "tags": []
      },
      "source": [
        "df = DataFrame.new(id: 1..3, yearmonth: %w[202209 202210 202211])\n",
        "  .assign(:year, :month) { yearmonth.split_to_columns(/(?=..$)/) }\n",
        "  .drop(:yearmonth)\n",
        "  .to_long(:id)"
      ],
      "execution_count": null,
      "outputs": []
    },
    {
      "cell_type": "markdown",
      "metadata": {},
      "source": [
        "Another example with different list size."
      ]
    },
    {
      "cell_type": "code",
      "metadata": {
        "tags": []
      },
      "source": [
        "df = DataFrame.new(\n",
        "  x: 1..3,\n",
        "  y: ['a', 'd,e,f', 'g,h'],\n",
        "  z: ['1', '2,3,4', '5,6'],\n",
        ")"
      ],
      "execution_count": null,
      "outputs": []
    },
    {
      "cell_type": "code",
      "metadata": {
        "tags": []
      },
      "source": [
        "sizes = df.y.split(',').list_sizes\n",
        "a = sizes.to_a.map.with_index(1) { |n, i| [i] * n }.flatten"
      ],
      "execution_count": null,
      "outputs": []
    },
    {
      "cell_type": "code",
      "metadata": {
        "tags": []
      },
      "source": [
        "DataFrame.new(\n",
        "  x: a,\n",
        "  y: df.y.split_to_rows(','),\n",
        "  z: df.z.split_to_rows(',')\n",
        ")"
      ],
      "execution_count": null,
      "outputs": []
    },
    {
      "cell_type": "markdown",
      "metadata": {},
      "source": [
        "Another way to use `#split_to_columns`."
      ]
    },
    {
      "cell_type": "code",
      "metadata": {
        "tags": []
      },
      "source": [
        "xy = df.pick(:x, :y)\n",
        "  .assign(:y, :y1, :y2) { v(:y).split_to_columns(',') }\n",
        "  .to_long(:x, value: :y)\n",
        "  .remove_nil"
      ],
      "execution_count": null,
      "outputs": []
    },
    {
      "cell_type": "code",
      "metadata": {
        "tags": []
      },
      "source": [
        "xz = df.pick(:x, :z)\n",
        "  .assign(:z, :z1, :z2) { v(:z).split_to_columns(',') }\n",
        "  .to_long(:x, value: :z)\n",
        "  .remove_nil"
      ],
      "execution_count": null,
      "outputs": []
    },
    {
      "cell_type": "code",
      "metadata": {
        "tags": []
      },
      "source": [
        "xy.pick(:x, :y).merge(xz.pick(:z))"
      ],
      "execution_count": null,
      "outputs": []
    },
    {
      "cell_type": "markdown",
      "metadata": {},
      "source": [
        "Get all combinations of :y and :z."
      ]
    },
    {
      "cell_type": "code",
      "metadata": {
        "tags": []
      },
      "source": [
        "df.assign(:y, :y1, :y2) { v(:y).split_to_columns(',') }\n",
        "  .to_long(:x, :z, value: :y)\n",
        "  .drop(:NAME)\n",
        "  .assign(:z, :z1, :z2) { v(:z).split_to_columns(',') }\n",
        "  .to_long(:x, :y, value: :z)\n",
        "  .drop(:NAME)\n",
        "  .drop_nil"
      ],
      "execution_count": null,
      "outputs": []
    },
    {
      "cell_type": "markdown",
      "metadata": {},
      "source": [
        "## 90. Vector#propagate\n",
        "\n",
        "Spread the return value of an aggregate function as if it is a element-wise function.\n",
        "\n",
        "It has an alias `#expand`.\n",
        "\n",
        "(Since 0.4.0)"
      ]
    },
    {
      "cell_type": "code",
      "metadata": {
        "tags": []
      },
      "source": [
        "vec = Vector.new(1, 2, 3, 4)\n",
        "vec.propagate(:mean)"
      ],
      "execution_count": null,
      "outputs": []
    },
    {
      "cell_type": "markdown",
      "metadata": {},
      "source": [
        "Block is also available."
      ]
    },
    {
      "cell_type": "code",
      "metadata": {
        "tags": []
      },
      "source": [
        "vec.propagate { |v| v.mean.round }"
      ],
      "execution_count": null,
      "outputs": []
    },
    {
      "cell_type": "markdown",
      "metadata": {},
      "source": [
        "## 91. Vector#sort / #sort_indices\n",
        "\n",
        "`#sort` will arrange values in Vector.\n",
        "\n",
        "Accepts :sort order option:\n",
        "   - `:+`, `:ascending` or without argument will sort in increasing order.\n",
        "   - `:-` or `:descending` will sort in decreasing order.\n",
        "\n",
        "(Since 0.4.0)"
      ]
    },
    {
      "cell_type": "code",
      "metadata": {
        "tags": []
      },
      "source": [
        "vector = Vector.new(%w[B D A E C])\n",
        "vector.sort\n",
        "# same as vector.sort(:+)\n",
        "# same as vector.sort(:ascending)"
      ],
      "execution_count": null,
      "outputs": []
    },
    {
      "cell_type": "markdown",
      "metadata": {},
      "source": [
        "Sort in decreasing order;"
      ]
    },
    {
      "cell_type": "code",
      "metadata": {
        "tags": []
      },
      "source": [
        "vector.sort(:-)\n",
        "# same as vector.sort(:descending)"
      ],
      "execution_count": null,
      "outputs": []
    },
    {
      "cell_type": "markdown",
      "metadata": {},
      "source": [
        "## 93. Vector#rank\n",
        "\n",
        "Returns numerical rank of self.\n",
        " \n",
        "Note: This method is currently fixed to the default behavior because `RankOptions` in C++ function is not implemented in C GLib yet.\n",
        " - Nil values are considered greater than any value.\n",
        " - NaN values are considered greater than any value but smaller than nil values.\n",
        " - Tiebreakers are ranked in order of appearance.\n",
        "\n",
        "(Since 0.4.0, Experimental feature)\n",
        "\n",
        "Rank of float Vector;"
      ]
    },
    {
      "cell_type": "code",
      "metadata": {
        "tags": []
      },
      "source": [
        "float = Vector.new(0.1, nil, Float::NAN, 0.2, 0.1)"
      ],
      "execution_count": null,
      "outputs": []
    },
    {
      "cell_type": "code",
      "metadata": {
        "tags": []
      },
      "source": [
        "float.rank"
      ],
      "execution_count": null,
      "outputs": []
    },
    {
      "cell_type": "markdown",
      "metadata": {},
      "source": [
        "Rank of string Vector;"
      ]
    },
    {
      "cell_type": "code",
      "metadata": {
        "tags": []
      },
      "source": [
        "string = Vector.new(\"A\", \"B\", nil, \"A\", \"C\")"
      ],
      "execution_count": null,
      "outputs": []
    },
    {
      "cell_type": "code",
      "metadata": {
        "tags": []
      },
      "source": [
        "string.rank"
      ],
      "execution_count": null,
      "outputs": []
    },
    {
      "cell_type": "markdown",
      "metadata": {},
      "source": [
        "## 93. Vector#sample\n",
        "Pick up elements at random.\n",
        "\n",
        "(Since 0.4.0)\n",
        "\n",
        "Return a randomly selected element. This is one of an aggregation function."
      ]
    },
    {
      "cell_type": "code",
      "metadata": {
        "tags": []
      },
      "source": [
        "v = Vector.new('A'..'H')"
      ],
      "execution_count": null,
      "outputs": []
    },
    {
      "cell_type": "markdown",
      "metadata": {},
      "source": [
        "Returns scalar without any arguments."
      ]
    },
    {
      "cell_type": "code",
      "metadata": {
        "tags": []
      },
      "source": [
        "v.sample"
      ],
      "execution_count": null,
      "outputs": []
    },
    {
      "cell_type": "markdown",
      "metadata": {},
      "source": [
        "`sample(n)` will pick up `n` elements at random. `n` is a positive number of elements to pick.\n",
        "\n",
        "If n is smaller or equal to size, elements are picked by non-repeating.\n",
        "\n",
        "If n == 1 (in case of `sample(1)`), it returns a Vector of size == 1 not a scalar."
      ]
    },
    {
      "cell_type": "code",
      "metadata": {
        "tags": []
      },
      "source": [
        "v.sample(1)"
      ],
      "execution_count": null,
      "outputs": []
    },
    {
      "cell_type": "markdown",
      "metadata": {},
      "source": [
        "Sample same size of self: every element is picked in random order."
      ]
    },
    {
      "cell_type": "code",
      "metadata": {
        "tags": []
      },
      "source": [
        "v.sample(8)"
      ],
      "execution_count": null,
      "outputs": []
    },
    {
      "cell_type": "markdown",
      "metadata": {},
      "source": [
        "If n is greater than `size`, some elements are picked repeatedly."
      ]
    },
    {
      "cell_type": "code",
      "metadata": {
        "tags": []
      },
      "source": [
        "v.sample(9)"
      ],
      "execution_count": null,
      "outputs": []
    },
    {
      "cell_type": "markdown",
      "metadata": {},
      "source": [
        "`sample(prop)` will pick up elements by proportion `prop` at random. `prop` must be positive float.\n",
        " - Absolute number of elements to pick:`prop*size` is rounded (by `half: :up``)\n",
        " - If prop is smaller or equal to 1.0, elements are picked by non-repeating.\n",
        "\n",
        "If picked element is only one, it returns a Vector of size == 1 not a scalar."
      ]
    },
    {
      "cell_type": "code",
      "metadata": {
        "tags": []
      },
      "source": [
        "v.sample(0.1)"
      ],
      "execution_count": null,
      "outputs": []
    },
    {
      "cell_type": "markdown",
      "metadata": {},
      "source": [
        "Sample same size of self: every element is picked in random order."
      ]
    },
    {
      "cell_type": "code",
      "metadata": {
        "tags": []
      },
      "source": [
        "v.sample(1.0)"
      ],
      "execution_count": null,
      "outputs": []
    },
    {
      "cell_type": "markdown",
      "metadata": {},
      "source": [
        "If prop is greater than 1.0, some elements are picked repeatedly."
      ]
    },
    {
      "cell_type": "code",
      "metadata": {
        "tags": []
      },
      "source": [
        "# 2 times over sampling\n",
        "sampled = v.sample(2.0)"
      ],
      "execution_count": null,
      "outputs": []
    },
    {
      "cell_type": "code",
      "metadata": {
        "tags": []
      },
      "source": [
        "sampled.tally"
      ],
      "execution_count": null,
      "outputs": []
    },
    {
      "cell_type": "markdown",
      "metadata": {},
      "source": [
        "## 94. Vector#concatenate\n",
        "\n",
        "Concatenate other array-like to self.\n",
        "\n",
        "(Since 0.4.0)\n",
        "\n",
        "Concatenate to string;"
      ]
    },
    {
      "cell_type": "code",
      "metadata": {
        "tags": []
      },
      "source": [
        "string = Vector.new(%w[A B])"
      ],
      "execution_count": null,
      "outputs": []
    },
    {
      "cell_type": "code",
      "metadata": {
        "tags": []
      },
      "source": [
        "string.concatenate([1, 2])"
      ],
      "execution_count": null,
      "outputs": []
    },
    {
      "cell_type": "markdown",
      "metadata": {},
      "source": [
        "Concatenate to integer;"
      ]
    },
    {
      "cell_type": "code",
      "metadata": {
        "tags": []
      },
      "source": [
        "integer = Vector.new(1, 2)"
      ],
      "execution_count": null,
      "outputs": []
    },
    {
      "cell_type": "code",
      "metadata": {
        "tags": []
      },
      "source": [
        "integer.concatenate([\"A\", \"B\"])"
      ],
      "execution_count": null,
      "outputs": []
    },
    {
      "cell_type": "markdown",
      "metadata": {},
      "source": [
        "## 95. Vector#resolve\n",
        "\n",
        "Return other as a Vector which is same data type as self.\n",
        "\n",
        "(Since 0.4.0)\n",
        "\n",
        "Integer to String;"
      ]
    },
    {
      "cell_type": "code",
      "metadata": {
        "tags": []
      },
      "source": [
        "Vector.new('A').resolve([1, 2])"
      ],
      "execution_count": null,
      "outputs": []
    },
    {
      "cell_type": "markdown",
      "metadata": {},
      "source": [
        "String to Ineger;"
      ]
    },
    {
      "cell_type": "code",
      "metadata": {
        "tags": []
      },
      "source": [
        "Vector.new(1).resolve(['A'])"
      ],
      "execution_count": null,
      "outputs": []
    },
    {
      "cell_type": "markdown",
      "metadata": {},
      "source": [
        "Upcast to uint16;"
      ]
    },
    {
      "cell_type": "code",
      "metadata": {
        "tags": []
      },
      "source": [
        "vector = Vector.new(256)"
      ],
      "execution_count": null,
      "outputs": []
    },
    {
      "cell_type": "markdown",
      "metadata": {},
      "source": [
        "Not a uint8 Vector;"
      ]
    },
    {
      "cell_type": "code",
      "metadata": {
        "tags": []
      },
      "source": [
        "vector.resolve([1, 2])"
      ],
      "execution_count": null,
      "outputs": []
    },
    {
      "cell_type": "markdown",
      "metadata": {},
      "source": [
        "## 96. SubFrames\n",
        "\n",
        "`SubFrames` is a new concept of DataFrame collection. It represents ordered subsets of a DataFrame collected by some rules. It includes both grouping and windowing concepts in a unified manner, and also covers broader cases more flexibly.\n",
        "\n",
        "(Since 0.4.0)"
      ]
    },
    {
      "cell_type": "code",
      "metadata": {
        "tags": []
      },
      "source": [
        "dataframe = DataFrame.new(\n",
        "  x: [*1..6],\n",
        "  y: %w[A A B B B C],\n",
        "  z: [false, true, false, nil, true, false]\n",
        ")\n",
        "p dataframe; nil"
      ],
      "execution_count": null,
      "outputs": []
    },
    {
      "cell_type": "code",
      "metadata": {
        "tags": []
      },
      "source": [
        "sf = SubFrames.new(dataframe, [[0, 1], [2, 3, 4], [5]])"
      ],
      "execution_count": null,
      "outputs": []
    },
    {
      "cell_type": "markdown",
      "metadata": {},
      "source": [
        "Source DataFrame (univarsal set)."
      ]
    },
    {
      "cell_type": "code",
      "metadata": {
        "tags": []
      },
      "source": [
        "sf.baseframe"
      ],
      "execution_count": null,
      "outputs": []
    },
    {
      "cell_type": "markdown",
      "metadata": {},
      "source": [
        "Size of subsets."
      ]
    },
    {
      "cell_type": "code",
      "metadata": {
        "tags": []
      },
      "source": [
        "sf.size"
      ],
      "execution_count": null,
      "outputs": []
    },
    {
      "cell_type": "markdown",
      "metadata": {},
      "source": [
        "Sizes of each subsets."
      ]
    },
    {
      "cell_type": "code",
      "metadata": {
        "tags": []
      },
      "source": [
        "sf.sizes"
      ],
      "execution_count": null,
      "outputs": []
    },
    {
      "cell_type": "markdown",
      "metadata": {},
      "source": [
        "`#each` will return an Enumerator or iterates each subset as a DataFrame."
      ]
    },
    {
      "cell_type": "code",
      "metadata": {
        "tags": []
      },
      "source": [
        "sf.each"
      ],
      "execution_count": null,
      "outputs": []
    },
    {
      "cell_type": "code",
      "metadata": {
        "tags": []
      },
      "source": [
        "sf.each.next"
      ],
      "execution_count": null,
      "outputs": []
    },
    {
      "cell_type": "markdown",
      "metadata": {},
      "source": [
        "`SubFrames.new` also accepts a block."
      ]
    },
    {
      "cell_type": "code",
      "metadata": {
        "tags": []
      },
      "source": [
        "usf = SubFrames.new(dataframe) { |df| [df.indices] }"
      ],
      "execution_count": null,
      "outputs": []
    },
    {
      "cell_type": "markdown",
      "metadata": {},
      "source": [
        "`#universal?` tests if self is an univarsal set."
      ]
    },
    {
      "cell_type": "code",
      "metadata": {
        "tags": []
      },
      "source": [
        "usf.universal?"
      ],
      "execution_count": null,
      "outputs": []
    },
    {
      "cell_type": "markdown",
      "metadata": {},
      "source": [
        "`#empty?` tests if self is an empty set."
      ]
    },
    {
      "cell_type": "code",
      "metadata": {
        "tags": []
      },
      "source": [
        "esf = SubFrames.new(dataframe, [])"
      ],
      "execution_count": null,
      "outputs": []
    },
    {
      "cell_type": "code",
      "metadata": {
        "tags": []
      },
      "source": [
        "esf.empty?"
      ],
      "execution_count": null,
      "outputs": []
    },
    {
      "cell_type": "markdown",
      "metadata": {},
      "source": [
        "`SubFrames.new` also accepts boolean filters even from the block."
      ]
    },
    {
      "cell_type": "code",
      "metadata": {
        "tags": []
      },
      "source": [
        "small = dataframe.x < 4\n",
        "large = !small\n",
        "small_large = SubFrames.new(dataframe) { [small, large] }"
      ],
      "execution_count": null,
      "outputs": []
    },
    {
      "cell_type": "markdown",
      "metadata": {},
      "source": [
        "## 97. SubFrames#concatenate\n",
        "\n",
        "`SubFrames#concatenate` (or alias `#concat`) will concatenate SubFrames to create a DataFrame.\n",
        "\n",
        "(Since 0.4.0)"
      ]
    },
    {
      "cell_type": "code",
      "metadata": {
        "tags": []
      },
      "source": [
        "sf.concatenate"
      ],
      "execution_count": null,
      "outputs": []
    },
    {
      "cell_type": "markdown",
      "metadata": {},
      "source": [
        "## 98. SubFrames.by_group\n",
        "\n",
        "Create SubFrames by Group object.\n",
        "\n",
        "(Since 0.4.0)"
      ]
    },
    {
      "cell_type": "code",
      "metadata": {
        "tags": []
      },
      "source": [
        "p dataframe; nil"
      ],
      "execution_count": null,
      "outputs": []
    },
    {
      "cell_type": "code",
      "metadata": {
        "tags": []
      },
      "source": [
        "group = Group.new(dataframe, [:y])\n",
        "sf = SubFrames.by_group(group)"
      ],
      "execution_count": null,
      "outputs": []
    },
    {
      "cell_type": "markdown",
      "metadata": {},
      "source": [
        "## 99. DataFrame#sub_by_value\n",
        "\n",
        "Grouping by value. It is corresponding to Group processing.\n",
        "\n",
        "Create SubFrames from keys and group by values in columns specified by the key.\n",
        "\n",
        "(Since 0.4.0)"
      ]
    },
    {
      "cell_type": "code",
      "metadata": {
        "tags": []
      },
      "source": [
        "dataframe.sub_by_value(keys: :y)"
      ],
      "execution_count": null,
      "outputs": []
    },
    {
      "cell_type": "markdown",
      "metadata": {},
      "source": [
        "## 100. DataFrame#sub_by_window\n",
        "\n",
        "Create SubFrames by window in `size` rolling `from` by `step`.\n",
        "\n",
        "Default values is `from: 0`, `size: nil` and `step: 1`.\n",
        "\n",
        "(Since 0.4.0)"
      ]
    },
    {
      "cell_type": "code",
      "metadata": {
        "tags": []
      },
      "source": [
        "dataframe.sub_by_window(size: 4, step: 2)"
      ],
      "execution_count": null,
      "outputs": []
    },
    {
      "cell_type": "markdown",
      "metadata": {},
      "source": [
        "## 101. DataFrame#sub_by_enum\n",
        "\n",
        "Create SubFrames by Grouping/Windowing by posion. The position is specified by `Array`'s enumerator method such as `each_slice` or `each_cons`.\n",
        "\n",
        "(Since 0.4.0)\n",
        "\n",
        "Create a SubFrames object sliced by 3 rows. This is MECE (Mutually Exclusive and Collectively Exhaustive) SubFrames."
      ]
    },
    {
      "cell_type": "code",
      "metadata": {
        "tags": []
      },
      "source": [
        "dataframe.sub_by_enum(:each_slice, 3)"
      ],
      "execution_count": null,
      "outputs": []
    },
    {
      "cell_type": "markdown",
      "metadata": {},
      "source": [
        "Create a SubFrames object for each consecutive 3 rows."
      ]
    },
    {
      "cell_type": "code",
      "metadata": {
        "tags": []
      },
      "source": [
        "dataframe.sub_by_enum(:each_cons, 4)"
      ],
      "execution_count": null,
      "outputs": []
    },
    {
      "cell_type": "markdown",
      "metadata": {},
      "source": [
        "## 102. DataFrame#sub_by_kernel\n",
        "\n",
        "Create SubFrames by windowing with a kernel and step.\n",
        "Kernel is a boolean Array and it behaves like a masked window.\n",
        "\n",
        "(Since 0.4.0)"
      ]
    },
    {
      "cell_type": "code",
      "metadata": {
        "tags": []
      },
      "source": [
        "kernel = [true, false, false, true]\n",
        "dataframe.sub_by_kernel(kernel, step: 2)"
      ],
      "execution_count": null,
      "outputs": []
    },
    {
      "cell_type": "markdown",
      "metadata": {},
      "source": [
        "## 103. DataFrame#build_subframes\n",
        "\n",
        "Generic builder of sub-dataframe from self.\n",
        "\n",
        "(Sice 0.4.0)"
      ]
    },
    {
      "cell_type": "code",
      "metadata": {
        "tags": []
      },
      "source": [
        "dataframe.build_subframes([[0, 2, 4], [1, 3, 5]])"
      ],
      "execution_count": null,
      "outputs": []
    },
    {
      "cell_type": "markdown",
      "metadata": {},
      "source": [
        "`#build_subframes` also accepts a block."
      ]
    },
    {
      "cell_type": "code",
      "metadata": {
        "tags": []
      },
      "source": [
        "dataframe.build_subframes do |df|\n",
        "  even = df.indices.map(&:even?)\n",
        "  [even, !even]\n",
        "end"
      ],
      "execution_count": null,
      "outputs": []
    },
    {
      "cell_type": "markdown",
      "metadata": {},
      "source": [
        "## 104. SubFrames#aggregate\n",
        "- `SubFrames#aggregate(group_keys, aggregations)`\n",
        "  Aggregate SubFrames to create a DataFrame.\n",
        "\n",
        "This API will cahnge in 0.4.1.\n",
        "\n",
        "(Since 0.4.0)"
      ]
    },
    {
      "cell_type": "code",
      "metadata": {
        "tags": []
      },
      "source": [
        "sf = dataframe.sub_by_value(keys: :y)"
      ],
      "execution_count": null,
      "outputs": []
    },
    {
      "cell_type": "code",
      "metadata": {
        "tags": []
      },
      "source": [
        "sf.aggregate(:y, {z: :count})"
      ],
      "execution_count": null,
      "outputs": []
    },
    {
      "cell_type": "markdown",
      "metadata": {},
      "source": [
        "## 105. Vector#modulo\n",
        "\n",
        "(Since 0.4.1)\n",
        "\n",
        "`#%` is an alias of `#modulo`."
      ]
    },
    {
      "cell_type": "code",
      "metadata": {
        "tags": []
      },
      "source": [
        "vector = Vector.new(5, -3, 1)\n",
        "vector % 3"
      ],
      "execution_count": null,
      "outputs": []
    },
    {
      "cell_type": "markdown",
      "metadata": {},
      "source": [
        "`#%` and `#modulo` is equivalent to `self-divisor*(self/divisor).floor`."
      ]
    },
    {
      "cell_type": "code",
      "metadata": {
        "tags": []
      },
      "source": [
        "vector.modulo(-2)"
      ],
      "execution_count": null,
      "outputs": []
    },
    {
      "cell_type": "markdown",
      "metadata": {},
      "source": [
        "## 106. Grouped DataFrame as a list\n",
        "This API was introduced in 0.2.3, and supply a new DataFrame group (experimental).\n",
        "\n",
        "This additional API will treat a grouped DataFrame as a list of DataFrames. I think this API has pros such as:\n",
        "\n",
        "- API is easy to understand and flexible.\n",
        "- It has good compatibility with Ruby's primitive Enumerables.\n",
        "- We can only use non hash-ed aggregation functions.\n",
        "- Do not need grouped DataFrame state, nor `#ungroup` method.\n",
        "- May be useful for concurrent operations.\n",
        "\n",
        "This feature is implemented by Ruby, so it is pretty slow and experimental. Use original Group API for practical purpose.\n",
        "\n",
        "(Since 0.2.3, experimental feature => This was upgraded to SubFrames feature)"
      ]
    },
    {
      "cell_type": "code",
      "metadata": {},
      "source": [
        "enum = penguins.group(:island).each"
      ],
      "execution_count": null,
      "outputs": []
    },
    {
      "cell_type": "code",
      "metadata": {},
      "source": [
        "enum.to_a"
      ],
      "execution_count": null,
      "outputs": []
    },
    {
      "cell_type": "code",
      "metadata": {},
      "source": [
        "array = enum.map do |df|\n",
        "  DataFrame.new(island: [df.island[0]]).assign do\n",
        "    df.variables.each_with_object({}) do |(key, vec), hash|\n",
        "      next unless vec.numeric?\n",
        "      hash[\"mean(#{key})\"] = [vec.mean]\n",
        "    end\n",
        "  end\n",
        "end"
      ],
      "execution_count": null,
      "outputs": []
    },
    {
      "cell_type": "code",
      "metadata": {},
      "source": [
        "array.reduce { |a, df| a.concat df }"
      ],
      "execution_count": null,
      "outputs": []
    }
  ],
  "metadata": {
    "kernelspec": {
      "name": "ruby",
      "language": "ruby",
      "display_name": "Ruby 3.2.2"
    }
  },
  "nbformat": 4,
  "nbformat_minor": 4
}