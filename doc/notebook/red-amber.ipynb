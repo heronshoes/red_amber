{
  "cells": [
    {
      "cell_type": "raw",
      "metadata": {},
      "source": [
        "---\n",
        "title: RedAmber Examples\n",
        "---"
      ]
    },
    {
      "cell_type": "markdown",
      "metadata": {},
      "source": [
        "This notebook walks through the [README of RedAmber](https://github.com/heronshoes/red_amber#readme).\n",
        "\n",
        "\n",
        "## `RedAmber::DataFrame`"
      ]
    },
    {
      "cell_type": "code",
      "metadata": {
        "tags": []
      },
      "source": [
        "require 'red_amber'\n",
        "include RedAmber\n",
        "require 'datasets-arrow'\n",
        "\n",
        "{RedAmber: VERSION, Datasets: Datasets::VERSION}"
      ],
      "execution_count": null,
      "outputs": []
    },
    {
      "cell_type": "markdown",
      "metadata": {},
      "source": [
        "## Example: diamonds dataset\n",
        "\n",
        "For the first loading of Datasets::Diamonds, it will take some time to download."
      ]
    },
    {
      "cell_type": "code",
      "metadata": {
        "tags": []
      },
      "source": [
        "dataset = Datasets::Diamonds.new\n",
        "diamonds = DataFrame.new(dataset)"
      ],
      "execution_count": null,
      "outputs": []
    },
    {
      "cell_type": "code",
      "metadata": {
        "tags": []
      },
      "source": [
        "df = diamonds\n",
        "  .slice { carat > 1 } # or use #filter instead of #slice\n",
        "  .group(:cut)\n",
        "  .mean(:price) # `pick` prior to `group` is not required if `:price` is specified here.\n",
        "  .sort('-mean(price)')"
      ],
      "execution_count": null,
      "outputs": []
    },
    {
      "cell_type": "code",
      "metadata": {
        "tags": []
      },
      "source": [
        "usdjpy = 110.0 # when the yen was stronger\n",
        "\n",
        "df.rename('mean(price)': :mean_price_USD)\n",
        "  .assign(:mean_price_JPY) { mean_price_USD * usdjpy }"
      ],
      "execution_count": null,
      "outputs": []
    },
    {
      "cell_type": "markdown",
      "metadata": {},
      "source": [
        "## Example: starwars dataset"
      ]
    },
    {
      "cell_type": "code",
      "metadata": {
        "tags": []
      },
      "source": [
        "uri = URI('https://vincentarelbundock.github.io/Rdatasets/csv/dplyr/starwars.csv')\n",
        "\n",
        "starwars = DataFrame.load(uri)"
      ],
      "execution_count": null,
      "outputs": []
    },
    {
      "cell_type": "code",
      "metadata": {
        "tags": []
      },
      "source": [
        "starwars\n",
        "  .drop(0) # delete unnecessary index column\n",
        "  .remove { species == \"NA\" } # delete unnecessary rows\n",
        "  .group(:species) { [count(:species), mean(:height, :mass)] }\n",
        "  .slice { count > 1 } # or use #filter instead of slice"
      ],
      "execution_count": null,
      "outputs": []
    },
    {
      "cell_type": "markdown",
      "metadata": {},
      "source": [
        "## `RedAmber::Vector`"
      ]
    },
    {
      "cell_type": "code",
      "metadata": {
        "tags": []
      },
      "source": [
        "penguins = DataFrame.new(Datasets::Penguins.new)"
      ],
      "execution_count": null,
      "outputs": []
    },
    {
      "cell_type": "code",
      "metadata": {
        "tags": []
      },
      "source": [
        "penguins[:bill_length_mm]"
      ],
      "execution_count": null,
      "outputs": []
    },
    {
      "cell_type": "code",
      "metadata": {
        "tags": []
      },
      "source": [
        "penguins[:bill_length_mm] < 40"
      ],
      "execution_count": null,
      "outputs": []
    },
    {
      "cell_type": "code",
      "metadata": {
        "tags": []
      },
      "source": [
        "penguins[:bill_length_mm].mean"
      ],
      "execution_count": null,
      "outputs": []
    }
  ],
  "metadata": {
    "kernelspec": {
      "name": "ruby",
      "language": "ruby",
      "display_name": "Ruby 3.2.2"
    }
  },
  "nbformat": 4,
  "nbformat_minor": 4
}